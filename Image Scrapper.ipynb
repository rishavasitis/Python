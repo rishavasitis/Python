{
 "cells": [
  {
   "cell_type": "markdown",
   "metadata": {},
   "source": [
    "**Go to this given URL and solve the following questions\n",
    "URL: https://www.youtube.com/@PW-Foundation/videos**"
   ]
  },
  {
   "cell_type": "markdown",
   "metadata": {},
   "source": [
    "## Q1. Write a python program to extract the video URL of the first five videos."
   ]
  },
  {
   "cell_type": "code",
   "execution_count": 3,
   "metadata": {},
   "outputs": [
    {
     "name": "stdout",
     "output_type": "stream",
     "text": [
      "['https://www.youtube.com/watch?v=U09HORTeaB8', 'https://www.youtube.com/watch?v=eazPrtheE14', 'https://www.youtube.com/watch?v=luqdZrYnFOM', 'https://www.youtube.com/watch?v=YiBqvPi8Q1I', 'https://www.youtube.com/watch?v=mw9mLdN6ssA']\n"
     ]
    }
   ],
   "source": [
    "import youtube_dl\n",
    "\n",
    "URL = 'https://www.youtube.com/@PW-Foundation/videos'\n",
    "ydl_opts = {\n",
    "    'quiet': True,\n",
    "    'extract_flat': True,\n",
    "    'force_generic_extractor': True,\n",
    "}\n",
    "\n",
    "with youtube_dl.YoutubeDL(ydl_opts) as ydl:\n",
    "    result = ydl.extract_info(URL, download=False)\n",
    "    entries = result['entries'][:5]  # Get the first 5 videos\n",
    "\n",
    "video_urls = [entry['url'] for entry in entries]\n",
    "#print(video_urls)\n",
    "base_url = \"https://www.youtube.com/watch?v=\"\n",
    "\n",
    "video_urls = ['U09HORTeaB8', 'eazPrtheE14', 'luqdZrYnFOM', 'YiBqvPi8Q1I', 'mw9mLdN6ssA']\n",
    "full_video_urls = [base_url + video_id for video_id in video_urls]\n",
    "\n",
    "print(full_video_urls)"
   ]
  },
  {
   "cell_type": "markdown",
   "metadata": {},
   "source": [
    "## Q2. Write a python program to extract the URL of the video thumbnails of the first five videos."
   ]
  },
  {
   "cell_type": "code",
   "execution_count": 4,
   "metadata": {},
   "outputs": [
    {
     "name": "stdout",
     "output_type": "stream",
     "text": [
      "['https://img.youtube.com/vi/U09HORTeaB8/0.jpg', 'https://img.youtube.com/vi/eazPrtheE14/0.jpg', 'https://img.youtube.com/vi/luqdZrYnFOM/0.jpg', 'https://img.youtube.com/vi/YiBqvPi8Q1I/0.jpg', 'https://img.youtube.com/vi/mw9mLdN6ssA/0.jpg']\n"
     ]
    }
   ],
   "source": [
    "import youtube_dl\n",
    "\n",
    "URL = 'https://www.youtube.com/@PW-Foundation/videos'\n",
    "ydl_opts = {\n",
    "    'quiet': True,\n",
    "    'extract_flat': True,\n",
    "    'force_generic_extractor': True,\n",
    "}\n",
    "\n",
    "with youtube_dl.YoutubeDL(ydl_opts) as ydl:\n",
    "    result = ydl.extract_info(URL, download=False)\n",
    "    entries = result['entries'][:5]  # Get the first 5 videos\n",
    "\n",
    "video_ids = ['U09HORTeaB8', 'eazPrtheE14', 'luqdZrYnFOM', 'YiBqvPi8Q1I', 'mw9mLdN6ssA']\n",
    "\n",
    "# Construct thumbnail URLs\n",
    "thumbnail_base_url = \"https://img.youtube.com/vi/{}/0.jpg\"\n",
    "thumbnail_urls = [thumbnail_base_url.format(video_id) for video_id in video_ids]\n",
    "\n",
    "print(thumbnail_urls)"
   ]
  },
  {
   "cell_type": "markdown",
   "metadata": {},
   "source": [
    "## Q3. Write a python program to extract the title of the first five videos."
   ]
  },
  {
   "cell_type": "code",
   "execution_count": 5,
   "metadata": {},
   "outputs": [
    {
     "name": "stdout",
     "output_type": "stream",
     "text": [
      "['MEGA MOCK TEST Series is LIVE Now 🔴|| For Class-9th & 10th Students @free', 'ALERT 🚨 : OLYMPIAD EXAM Registration Open for 2023-2024 | Step by Step Procedure | NSO | IMO | SOF', 'Offer Ending Soon 🤯 | Only Few Hours Left | #SapneDekhneKiAzaadi 🔥', 'Upto 35% Off On All PW Batches 🔥 | Only 1 Day Left 🤯 #SapneDekhneKiAzaadi', 'Happy 77th Independence Day 🇮🇳 | Check the Offers Now 🔥 #SapneDekhneKiAzaadi']\n"
     ]
    }
   ],
   "source": [
    "import youtube_dl\n",
    "\n",
    "URL = 'https://www.youtube.com/@PW-Foundation/videos'\n",
    "ydl_opts = {\n",
    "    'quiet': True,\n",
    "    'extract_flat': True,\n",
    "    'force_generic_extractor': True,\n",
    "}\n",
    "\n",
    "with youtube_dl.YoutubeDL(ydl_opts) as ydl:\n",
    "    result = ydl.extract_info(URL, download=False)\n",
    "    entries = result['entries'][:5]  # Get the first 5 videos\n",
    "\n",
    "titles = [entry['title'] for entry in entries if 'title' in entry]\n",
    "print(titles)"
   ]
  },
  {
   "cell_type": "markdown",
   "metadata": {},
   "source": [
    "## Q4. Write a python program to extract the number of views of the first five videos."
   ]
  },
  {
   "cell_type": "code",
   "execution_count": 6,
   "metadata": {},
   "outputs": [
    {
     "name": "stdout",
     "output_type": "stream",
     "text": [
      "[40017, 18397, 16278, 12323, 40228]\n"
     ]
    }
   ],
   "source": [
    "import youtube_dl\n",
    "\n",
    "URL = 'https://www.youtube.com/@PW-Foundation/videos'\n",
    "ydl_opts = {\n",
    "    'quiet': True,\n",
    "    'extract_flat': True,\n",
    "    'force_generic_extractor': True,\n",
    "}\n",
    "\n",
    "with youtube_dl.YoutubeDL(ydl_opts) as ydl:\n",
    "    result = ydl.extract_info(URL, download=False)\n",
    "    entries = result['entries'][:5]  # Get the first 5 videos\n",
    "\n",
    "view_counts = [entry['view_count'] for entry in entries if 'view_count' in entry]\n",
    "print(view_counts)"
   ]
  },
  {
   "cell_type": "markdown",
   "metadata": {},
   "source": [
    "## Q5. Write a python program to extract the time of posting of video for the first five videos."
   ]
  },
  {
   "cell_type": "code",
   "execution_count": 7,
   "metadata": {},
   "outputs": [
    {
     "name": "stdout",
     "output_type": "stream",
     "text": [
      "[]\n",
      "['N/A', 'N/A', 'N/A', 'N/A', 'N/A']\n"
     ]
    }
   ],
   "source": [
    "import youtube_dl\n",
    "\n",
    "URL = 'https://www.youtube.com/@PW-Foundation/videos'\n",
    "ydl_opts = {\n",
    "    'quiet': True,\n",
    "    'extract_flat': True,\n",
    "    'force_generic_extractor': True,\n",
    "}\n",
    "\n",
    "with youtube_dl.YoutubeDL(ydl_opts) as ydl:\n",
    "    result = ydl.extract_info(URL, download=False)\n",
    "    entries = result['entries'][:5]  # Get the first 5 videos\n",
    "\n",
    "upload_dates = [entry['upload_date'] for entry in entries if 'upload_date' in entry]\n",
    "print(upload_dates)\n",
    "#print(entries[0])\n",
    "upload_dates = [entry.get('upload_date', 'N/A') for entry in entries]\n",
    "print(upload_dates)\n"
   ]
  },
  {
   "cell_type": "code",
   "execution_count": null,
   "metadata": {},
   "outputs": [],
   "source": []
  }
 ],
 "metadata": {
  "kernelspec": {
   "display_name": "Python 3 (ipykernel)",
   "language": "python",
   "name": "python3"
  },
  "language_info": {
   "codemirror_mode": {
    "name": "ipython",
    "version": 3
   },
   "file_extension": ".py",
   "mimetype": "text/x-python",
   "name": "python",
   "nbconvert_exporter": "python",
   "pygments_lexer": "ipython3",
   "version": "3.10.8"
  }
 },
 "nbformat": 4,
 "nbformat_minor": 4
}
