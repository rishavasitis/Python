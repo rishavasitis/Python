{
 "cells": [
  {
   "cell_type": "markdown",
   "id": "38f6c924-df4f-43df-b291-d402ffa55ffb",
   "metadata": {},
   "source": [
    "Q1. Explain Class and Object with respect to Object-Oriented Programming. Give a suitable example."
   ]
  },
  {
   "cell_type": "markdown",
   "id": "016861da-a51f-4c77-8d16-64952c409374",
   "metadata": {},
   "source": [
    "**ANS**\n",
    "In object-oriented programming (OOP), a class is a blueprint or template for creating objects. It defines the properties (attributes) and behaviors (methods) that objects of that class will have. It provides a way to organize and encapsulate related data and functions.\n",
    "\n",
    "An object, on the other hand, is an instance of a class. It is a concrete realization of the class blueprint with its own unique state and behavior. Objects can interact with each other and perform actions based on the class's defined methods."
   ]
  },
  {
   "cell_type": "code",
   "execution_count": 1,
   "id": "5a5e64f1-87bc-4e4e-96c7-bd8dca28f89e",
   "metadata": {},
   "outputs": [
    {
     "name": "stdout",
     "output_type": "stream",
     "text": [
      "The Honda Civic's engine is starting.\n",
      "The Honda Civic is accelerating.\n"
     ]
    }
   ],
   "source": [
    "class Car:\n",
    "    def __init__(self, make, model, color):\n",
    "        self.make = make\n",
    "        self.model = model\n",
    "        self.color = color\n",
    "\n",
    "    def start_engine(self):\n",
    "        print(f\"The {self.make} {self.model}'s engine is starting.\")\n",
    "\n",
    "    def accelerate(self):\n",
    "        print(f\"The {self.make} {self.model} is accelerating.\")\n",
    "\n",
    "my_car = Car(\"Honda\", \"Civic\", \"Red\")\n",
    "my_car.start_engine()  # Output: The Honda Civic's engine is starting.\n",
    "my_car.accelerate()    # Output: The Honda Civic is accelerating.\n"
   ]
  },
  {
   "cell_type": "code",
   "execution_count": null,
   "id": "485b4670-e216-4be6-adf1-62f442eef946",
   "metadata": {},
   "outputs": [],
   "source": []
  },
  {
   "cell_type": "markdown",
   "id": "6df06581-e6f9-4adf-a3bd-1f573f60ae5c",
   "metadata": {},
   "source": [
    "Q2. Name the four pillars of OOPs."
   ]
  },
  {
   "cell_type": "markdown",
   "id": "c80d3b25-ffb3-4eb3-ad5e-4e3a9e811565",
   "metadata": {},
   "source": [
    "**ANS**\n",
    "The four pillars of object-oriented programming (OOP) are:\n",
    "\n",
    "Encapsulation: The bundling of data and related behaviors (methods) within a class to ensure data integrity and provide abstraction.\n",
    "\n",
    "Inheritance: The ability to create new classes (derived or child classes) from existing classes (base or parent classes) to inherit their attributes and methods.\n",
    "\n",
    "Polymorphism: The ability of objects to take on multiple forms or behaviors based on their context. It allows objects of different classes to be used interchangeably through method overriding and method overloading.\n",
    "\n",
    "Abstraction: The process of simplifying complex systems by breaking them down into manageable and understandable components. It involves defining interfaces and hiding unnecessary implementation details."
   ]
  },
  {
   "cell_type": "code",
   "execution_count": null,
   "id": "ce1605ff-54b7-4322-a9c8-c5b85459b4f4",
   "metadata": {},
   "outputs": [],
   "source": []
  },
  {
   "cell_type": "markdown",
   "id": "51a860e9-7385-4bce-9518-b490c1986a00",
   "metadata": {},
   "source": [
    "Q3. Explain why the __init__() function is used. Give a suitable example."
   ]
  },
  {
   "cell_type": "markdown",
   "id": "327bfd50-c156-42b9-80b1-849d2b0db777",
   "metadata": {},
   "source": [
    "**ANS**\n",
    "The __init__() function is a special method (also known as the constructor) in Python classes. It is automatically called when an object is created from a class. The primary purpose of __init__() is to initialize the object's attributes or perform any necessary setup.\n",
    "\n",
    "Example:"
   ]
  },
  {
   "cell_type": "code",
   "execution_count": 3,
   "id": "06085653-6d6f-446e-b4f1-1668a6dc6cd5",
   "metadata": {},
   "outputs": [
    {
     "name": "stdout",
     "output_type": "stream",
     "text": [
      "Hi, my name is Rishav and I am 25 years old.\n"
     ]
    }
   ],
   "source": [
    "class Person:\n",
    "    def __init__(self, name, age):\n",
    "        self.name = name\n",
    "        self.age = age\n",
    "\n",
    "    def introduce(self):\n",
    "        print(f\"Hi, my name is {self.name} and I am {self.age} years old.\")\n",
    "\n",
    "person = Person(\"Rishav\", 25)\n",
    "person.introduce()\n"
   ]
  },
  {
   "cell_type": "code",
   "execution_count": null,
   "id": "52cddfc1-067b-4b96-a90d-59a32286398f",
   "metadata": {},
   "outputs": [],
   "source": []
  },
  {
   "cell_type": "markdown",
   "id": "b92135d8-4bd8-4298-98a3-2fe79f241c1b",
   "metadata": {},
   "source": [
    "Q4. Why self is used in OOPs?"
   ]
  },
  {
   "cell_type": "markdown",
   "id": "cec33f74-af36-4581-a16d-5c59a0255f2c",
   "metadata": {},
   "source": [
    "**ANS** In object-oriented programming, self is used as the first parameter in class methods. It is a convention in Python to refer to the instance of the class itself. By using self as the first parameter, we can access and modify the object's attributes and invoke its methods.\n",
    "\n",
    "self acts as a reference to the instance on which a method is called. It allows us to differentiate between instance variables and local variables within a method."
   ]
  },
  {
   "cell_type": "code",
   "execution_count": null,
   "id": "a206c9e3-d597-4c6e-bcd3-cf963b062f3a",
   "metadata": {},
   "outputs": [],
   "source": []
  },
  {
   "cell_type": "markdown",
   "id": "1ef71550-f62f-4001-9725-39ab68147662",
   "metadata": {},
   "source": [
    "Q5. What is inheritance? Give an example for each type of inheritance."
   ]
  },
  {
   "cell_type": "markdown",
   "id": "0aa8b324-e116-407b-b64f-9f01e486c239",
   "metadata": {},
   "source": [
    "Inheritance is a fundamental concept in object-oriented programming (OOP) that allows a class to inherit attributes and behaviors from another class. The class that inherits is called the derived or child class, and the class from which it inherits is called the base or parent class.\n",
    "\n",
    "There are different types of inheritance:\n",
    "\n",
    "Single Inheritance: A derived class inherits from a single base class."
   ]
  },
  {
   "cell_type": "code",
   "execution_count": 5,
   "id": "001e977a-099f-4d60-acba-fb582a971c45",
   "metadata": {},
   "outputs": [
    {
     "name": "stdout",
     "output_type": "stream",
     "text": [
      "Animal sound\n",
      "Bark\n"
     ]
    }
   ],
   "source": [
    "class Animal:\n",
    "    def sound(self):\n",
    "        print(\"Animal sound\")\n",
    "\n",
    "class Dog(Animal):\n",
    "    def bark(self):\n",
    "        print(\"Bark\")\n",
    "\n",
    "my_dog = Dog()\n",
    "my_dog.sound()\n",
    "my_dog.bark()  \n"
   ]
  },
  {
   "cell_type": "code",
   "execution_count": null,
   "id": "702d3c06-64fe-43a5-8d88-0bcdf1850562",
   "metadata": {},
   "outputs": [],
   "source": []
  },
  {
   "cell_type": "markdown",
   "id": "ef627c2a-1da3-4d7c-8407-018447d30c63",
   "metadata": {},
   "source": [
    "Multiple Inheritance: A derived class inherits from multiple base classes."
   ]
  },
  {
   "cell_type": "code",
   "execution_count": 4,
   "id": "6fe96941-7406-4110-89d0-9aceb312bff7",
   "metadata": {},
   "outputs": [
    {
     "name": "stdout",
     "output_type": "stream",
     "text": [
      "Base 1 method\n",
      "Base 2 method\n",
      "Derived method\n"
     ]
    }
   ],
   "source": [
    "class Base1:\n",
    "    def method1(self):\n",
    "        print(\"Base 1 method\")\n",
    "\n",
    "class Base2:\n",
    "    def method2(self):\n",
    "        print(\"Base 2 method\")\n",
    "\n",
    "class Derived(Base1, Base2):\n",
    "    def method3(self):\n",
    "        print(\"Derived method\")\n",
    "\n",
    "obj = Derived()\n",
    "obj.method1()  \n",
    "obj.method2()  \n",
    "obj.method3()  \n"
   ]
  },
  {
   "cell_type": "code",
   "execution_count": null,
   "id": "b8a7309a-512e-4b2e-b6b6-acbd2afe5344",
   "metadata": {},
   "outputs": [],
   "source": []
  },
  {
   "cell_type": "markdown",
   "id": "f49d4dbe-9e63-46ee-903c-9c5893222199",
   "metadata": {},
   "source": [
    "Multilevel Inheritance: A derived class inherits from a base class, which itself inherits from another base class."
   ]
  },
  {
   "cell_type": "code",
   "execution_count": 6,
   "id": "6bba5e01-7fba-483b-8b31-dd0f3643d945",
   "metadata": {},
   "outputs": [
    {
     "name": "stdout",
     "output_type": "stream",
     "text": [
      "Class A method\n",
      "Class B method\n",
      "Class C method\n"
     ]
    }
   ],
   "source": [
    "class A:\n",
    "    def method1(self):\n",
    "        print(\"Class A method\")\n",
    "\n",
    "class B(A):\n",
    "    def method2(self):\n",
    "        print(\"Class B method\")\n",
    "\n",
    "class C(B):\n",
    "    def method3(self):\n",
    "        print(\"Class C method\")\n",
    "\n",
    "obj = C()\n",
    "obj.method1()  \n",
    "obj.method2() \n",
    "obj.method3()  \n"
   ]
  },
  {
   "cell_type": "code",
   "execution_count": null,
   "id": "71ef275d-df2a-471a-ac90-ff9c535e1df3",
   "metadata": {},
   "outputs": [],
   "source": []
  },
  {
   "cell_type": "markdown",
   "id": "8ba4be42-3c0a-4252-8147-d60ed9e2823c",
   "metadata": {},
   "source": [
    "Hierarchical Inheritance: Multiple derived classes inherit from a single base class."
   ]
  },
  {
   "cell_type": "code",
   "execution_count": 8,
   "id": "3e4b64d5-5971-49ea-81ee-ece047945f8d",
   "metadata": {},
   "outputs": [
    {
     "name": "stdout",
     "output_type": "stream",
     "text": [
      "Fuel type\n",
      "Car type\n",
      "Fuel type\n",
      "Bike type\n"
     ]
    }
   ],
   "source": [
    "class Vehicle:\n",
    "    def fuel_type(self):\n",
    "        print(\"Fuel type\")\n",
    "\n",
    "class Car(Vehicle):\n",
    "    def car_type(self):\n",
    "        print(\"Car type\")\n",
    "\n",
    "class Bike(Vehicle):\n",
    "    def bike_type(self):\n",
    "        print(\"Bike type\")\n",
    "\n",
    "my_car = Car()\n",
    "my_car.fuel_type()  \n",
    "my_car.car_type() \n",
    "\n",
    "my_bike = Bike()\n",
    "my_bike.fuel_type() \n",
    "my_bike.bike_type() \n"
   ]
  },
  {
   "cell_type": "code",
   "execution_count": null,
   "id": "f34ad62f-edd7-48ad-9aff-96cf0f0eb2e4",
   "metadata": {},
   "outputs": [],
   "source": []
  }
 ],
 "metadata": {
  "kernelspec": {
   "display_name": "Python 3 (ipykernel)",
   "language": "python",
   "name": "python3"
  },
  "language_info": {
   "codemirror_mode": {
    "name": "ipython",
    "version": 3
   },
   "file_extension": ".py",
   "mimetype": "text/x-python",
   "name": "python",
   "nbconvert_exporter": "python",
   "pygments_lexer": "ipython3",
   "version": "3.10.8"
  }
 },
 "nbformat": 4,
 "nbformat_minor": 5
}
