{
 "cells": [
  {
   "cell_type": "markdown",
   "id": "cd1f5be5-b889-4b9f-8cad-ddf4c784b936",
   "metadata": {},
   "source": [
    "Q1. What is multiprocessing in python? Why is it useful?"
   ]
  },
  {
   "cell_type": "markdown",
   "id": "6f942808-1cd9-4a20-afc3-813e1f5cf2a5",
   "metadata": {},
   "source": [
    "**ANS**\n",
    "\n",
    "Multiprocessing in Python refers to the ability of a program to execute multiple processes concurrently. It allows the execution of multiple tasks simultaneously on different CPU cores, providing true parallelism. Each process runs in a separate memory space and has its own interpreter, allowing independent execution.\n",
    "\n",
    "Multiprocessing is useful in scenarios where tasks can be divided into smaller, independent units of work that can be executed in parallel. It helps in achieving improved performance and efficient utilization of available system resources, especially on systems with multiple CPU cores.\n",
    "\n",
    "By leveraging multiprocessing, programs can effectively handle CPU-bound tasks, take advantage of modern hardware architectures, and reduce the overall execution time of computationally intensive tasks."
   ]
  },
  {
   "cell_type": "code",
   "execution_count": null,
   "id": "0ef99570-1ead-450e-9e06-1a288fed8601",
   "metadata": {},
   "outputs": [],
   "source": []
  },
  {
   "cell_type": "markdown",
   "id": "632a0945-6f02-4c52-8eed-5c14947e5900",
   "metadata": {},
   "source": [
    "Q2. What are the differences between multiprocessing and multithreading?"
   ]
  },
  {
   "cell_type": "markdown",
   "id": "7db6a33c-3eed-4beb-ab9c-a0a6d61ed7ad",
   "metadata": {},
   "source": [
    "**ANS**\n",
    "\n",
    "The key differences between multiprocessing and multithreading are as follows:\n",
    "\n",
    "Execution model: In multiprocessing, multiple processes run concurrently, each with its own memory space and interpreter. In multithreading, multiple threads run within a single process and share the same memory space.\n",
    "\n",
    "Memory isolation: Each process in multiprocessing has its own memory space, providing strong isolation. In multithreading, all threads share the same memory space, which requires careful synchronization and can lead to race conditions and data corruption if not managed properly.\n",
    "\n",
    "CPU utilization: Multiprocessing can take advantage of multiple CPU cores, allowing true parallelism and efficient utilization of available processing power. Multithreading is limited to a single CPU core and provides concurrency by time-slicing threads.\n",
    "\n",
    "Communication and synchronization: Communication between processes in multiprocessing requires explicit inter-process communication (IPC) mechanisms like pipes, queues, or shared memory. In multithreading, communication between threads is easier and can be done through shared variables, but it requires proper synchronization mechanisms to avoid race conditions.\n",
    "\n",
    "Complexity: Multithreading is generally simpler to implement as it does not require dealing with the complexities of inter-process communication and synchronization. Multiprocessing introduces the overhead of managing multiple processes and requires additional considerations for data sharing and synchronization."
   ]
  },
  {
   "cell_type": "code",
   "execution_count": null,
   "id": "22995971-25d9-4754-bec0-e088ffadf40a",
   "metadata": {},
   "outputs": [],
   "source": []
  },
  {
   "cell_type": "markdown",
   "id": "236bd581-d5d2-4a5d-8905-b746e938761f",
   "metadata": {},
   "source": [
    "Q3. Write a python code to create a process using the multiprocessing module."
   ]
  },
  {
   "cell_type": "code",
   "execution_count": 1,
   "id": "9c9739fc-3a58-4942-9b33-33387e898a80",
   "metadata": {},
   "outputs": [
    {
     "name": "stdout",
     "output_type": "stream",
     "text": [
      "This is a child process.\n",
      "Main process completed.\n"
     ]
    }
   ],
   "source": [
    "\n",
    "import multiprocessing\n",
    "\n",
    "def my_process():\n",
    "    print(\"This is a child process.\")\n",
    "\n",
    "if __name__ == '__main__':\n",
    "    p = multiprocessing.Process(target=my_process)\n",
    "    p.start()\n",
    "    p.join()\n",
    "    print(\"Main process completed.\")\n"
   ]
  },
  {
   "cell_type": "code",
   "execution_count": null,
   "id": "2debb7fb-ac18-4503-b8c6-1c5a61a6d846",
   "metadata": {},
   "outputs": [],
   "source": []
  },
  {
   "cell_type": "markdown",
   "id": "1c394378-aa8e-40d3-9a9f-275110b33b46",
   "metadata": {},
   "source": [
    "Q4. What is a multiprocessing pool in python? Why is it used?"
   ]
  },
  {
   "cell_type": "markdown",
   "id": "8ef7b248-1cd2-4612-b327-f25302f96e36",
   "metadata": {},
   "source": [
    "**ANS**\n",
    "\n",
    "A multiprocessing pool in Python, specifically the multiprocessing.Pool class, provides a convenient way to distribute tasks across a pool of worker processes. It allows for parallel execution of multiple instances of a function, automatically allocating work to available processes.\n",
    "\n",
    "A multiprocessing pool is used to achieve parallelism and improve the performance of CPU-bound tasks. It abstracts away the complexity of managing individual processes and provides an interface for submitting tasks and retrieving results. The pool automatically manages the process creation, distribution of tasks, and retrieval of results.\n",
    "\n",
    "By utilizing a multiprocessing pool, developers can easily parallelize computations, take advantage of multiple CPU cores, and efficiently utilize system resources, leading to faster execution times for computationally intensive tasks."
   ]
  },
  {
   "cell_type": "code",
   "execution_count": null,
   "id": "c1c4f965-7b7d-4627-8967-6649e227b4de",
   "metadata": {},
   "outputs": [],
   "source": []
  },
  {
   "cell_type": "markdown",
   "id": "6efe9aa8-596f-46cc-984b-f8c3f5e8014a",
   "metadata": {},
   "source": [
    "Q5. How can we create a pool of worker processes in python using the multiprocessing module?"
   ]
  },
  {
   "cell_type": "markdown",
   "id": "fa116fbe-0c96-4e8f-b7d3-bc87387161ac",
   "metadata": {},
   "source": [
    "**ANS**\n",
    "\n",
    "To create a pool of worker processes in Python using the multiprocessing module, we can make use of the multiprocessing.Pool class. Here's an example:\n"
   ]
  },
  {
   "cell_type": "code",
   "execution_count": 2,
   "id": "8e0362fc-e180-4906-9ea1-d2a6165d4aaf",
   "metadata": {},
   "outputs": [
    {
     "name": "stdout",
     "output_type": "stream",
     "text": [
      "[1, 4, 9, 16, 25]\n"
     ]
    }
   ],
   "source": [
    "import multiprocessing\n",
    "\n",
    "def square(x):\n",
    "    return x * x\n",
    "\n",
    "if __name__ == '__main__':\n",
    "    with multiprocessing.Pool() as pool:\n",
    "        numbers = [1, 2, 3, 4, 5]\n",
    "        results = pool.map(square, numbers)\n",
    "        print(results)\n"
   ]
  },
  {
   "cell_type": "code",
   "execution_count": null,
   "id": "10dd9b96-8a5b-48ab-80ee-0b93c42c18c0",
   "metadata": {},
   "outputs": [],
   "source": []
  },
  {
   "cell_type": "markdown",
   "id": "147d7e24-3de8-4b0b-aa2c-e1b9f2990999",
   "metadata": {},
   "source": [
    "Q6. Write a python program to create 4 processes, each process should print a different number using the\n",
    "multiprocessing module in python."
   ]
  },
  {
   "cell_type": "code",
   "execution_count": 3,
   "id": "24fa979f-b46f-43a3-ad14-1ac0c4983d76",
   "metadata": {},
   "outputs": [
    {
     "name": "stdout",
     "output_type": "stream",
     "text": [
      "Number: 1\n",
      "Number: 2\n",
      "Number: 3\n",
      "Number: 4\n",
      "Main process completed.\n"
     ]
    }
   ],
   "source": [
    "import multiprocessing\n",
    "\n",
    "def print_number(number):\n",
    "    print(f\"Number: {number}\")\n",
    "\n",
    "if __name__ == '__main__':\n",
    "    processes = []\n",
    "    numbers = [1, 2, 3, 4]\n",
    "\n",
    "    for number in numbers:\n",
    "        p = multiprocessing.Process(target=print_number, args=(number,))\n",
    "        processes.append(p)\n",
    "        p.start()\n",
    "\n",
    "    for p in processes:\n",
    "        p.join()\n",
    "\n",
    "    print(\"Main process completed.\")\n"
   ]
  },
  {
   "cell_type": "code",
   "execution_count": null,
   "id": "1e4ff1bb-99ed-4f5e-80bc-1690ed779d0f",
   "metadata": {},
   "outputs": [],
   "source": []
  }
 ],
 "metadata": {
  "kernelspec": {
   "display_name": "Python 3 (ipykernel)",
   "language": "python",
   "name": "python3"
  },
  "language_info": {
   "codemirror_mode": {
    "name": "ipython",
    "version": 3
   },
   "file_extension": ".py",
   "mimetype": "text/x-python",
   "name": "python",
   "nbconvert_exporter": "python",
   "pygments_lexer": "ipython3",
   "version": "3.10.8"
  }
 },
 "nbformat": 4,
 "nbformat_minor": 5
}
