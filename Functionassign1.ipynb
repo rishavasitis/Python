{
 "cells": [
  {
   "cell_type": "markdown",
   "id": "e56ff195-4f82-49be-b5e7-aab4c7d630dd",
   "metadata": {},
   "source": [
    "**Q1. Which keyword is used to create a function? Create a function to return a list of odd numbers in the\n",
    "range of 1 to 25.**"
   ]
  },
  {
   "cell_type": "markdown",
   "id": "50878a2e-83ff-441f-9cd8-edffef57b93c",
   "metadata": {},
   "source": [
    "The keyword used to create a function in Python is def. Here's an example of a function that returns a list of odd numbers in the range of 1 to 25"
   ]
  },
  {
   "cell_type": "code",
   "execution_count": 1,
   "id": "56bad47f-afdd-4cc5-8e7e-b705727d5d12",
   "metadata": {},
   "outputs": [
    {
     "name": "stdout",
     "output_type": "stream",
     "text": [
      "[1, 3, 5, 7, 9, 11, 13, 15, 17, 19, 21, 23, 25]\n"
     ]
    }
   ],
   "source": [
    "def get_odd_numbers():\n",
    "    odd_numbers = []\n",
    "    for num in range(1, 26):\n",
    "        if num % 2 != 0:\n",
    "            odd_numbers.append(num)\n",
    "    return odd_numbers\n",
    "\n",
    "# Call the function\n",
    "result = get_odd_numbers()\n",
    "print(result)\n"
   ]
  },
  {
   "cell_type": "code",
   "execution_count": null,
   "id": "1acc10a2-d538-496a-bfda-1ffc81466ea2",
   "metadata": {},
   "outputs": [],
   "source": []
  },
  {
   "cell_type": "markdown",
   "id": "db375ccb-1cd9-42e1-a4e9-b4579b01e2ef",
   "metadata": {},
   "source": [
    "**Q2**. Why *args and **kwargs is used in some functions? Create a function each for *args and **kwargs\n",
    "to demonstrate their use."
   ]
  },
  {
   "cell_type": "markdown",
   "id": "9162c7af-0c8f-4931-88a8-03aeb4b83b98",
   "metadata": {},
   "source": [
    "*args: The *args parameter allows a function to accept any number of positional arguments. It collects all the extra positional arguments passed to the function and stores them as a tuple. This is useful when the number of arguments is not fixed or known in advance.\n",
    "\n"
   ]
  },
  {
   "cell_type": "code",
   "execution_count": 4,
   "id": "7a2e88c6-59e7-47b7-96bb-df14c6ea856c",
   "metadata": {},
   "outputs": [
    {
     "name": "stdout",
     "output_type": "stream",
     "text": [
      "1\n",
      "2\n",
      "3\n"
     ]
    }
   ],
   "source": [
    "def my_function(*args):\n",
    "    for arg in args:\n",
    "        print(arg)\n",
    "\n",
    "my_function(1, 2, 3)\n"
   ]
  },
  {
   "cell_type": "markdown",
   "id": "b7f3e3c1-43ce-44de-b1d6-500b97c95172",
   "metadata": {},
   "source": [
    "**kwargs: The **kwargs parameter allows a function to accept any number of keyword arguments. It collects all the extra keyword arguments passed to the function and stores them as a dictionary. This is useful when you want to handle named arguments that are not defined in advance."
   ]
  },
  {
   "cell_type": "code",
   "execution_count": 8,
   "id": "5333d877-6964-4621-830e-141e68e924fe",
   "metadata": {},
   "outputs": [
    {
     "name": "stdout",
     "output_type": "stream",
     "text": [
      "name Rishav\n",
      "age 24\n",
      "city Patna\n"
     ]
    }
   ],
   "source": [
    "def my_function(**kwargs):\n",
    "    for key, value in kwargs.items():\n",
    "        print(key, value)\n",
    "\n",
    "my_function(name=\"Rishav\", age=24, city=\"Patna\")\n"
   ]
  },
  {
   "cell_type": "code",
   "execution_count": null,
   "id": "4ca0d2e7-b386-489c-80be-9ad05685eb77",
   "metadata": {},
   "outputs": [],
   "source": []
  },
  {
   "cell_type": "markdown",
   "id": "71d2c553-9a14-44e9-a378-8988e0109ca5",
   "metadata": {},
   "source": [
    "**Q3**. What is an iterator in python? Name the method used to initialise the iterator object and the method\n",
    "used for iteration. Use these methods to print the first five elements of the given list [2, 4, 6, 8, 10, 12, 14,\n",
    "16, 18, 20]."
   ]
  },
  {
   "cell_type": "markdown",
   "id": "921882a1-fee5-4713-9edd-3d44ad0b20dc",
   "metadata": {},
   "source": [
    "an iterator is an object that allows iteration over a sequence of elements. It provides a way to access the elements of a container one at a time, without having to know the underlying implementation.\n",
    "\n",
    "The method used to initialize an iterator object is iter(). It takes a sequence as an argument and returns an iterator object.\n",
    "\n",
    "The method used for iteration is next(). It is used to retrieve the next element from the iterator.\n",
    "\n",
    "To print the first five elements of the given list [2, 4, 6, 8, 10, 12, 14, 16, 18, 20], you can use the iter() method to create an iterator object and then use next() method in a loop to print the elements:"
   ]
  },
  {
   "cell_type": "code",
   "execution_count": 9,
   "id": "15b57a4b-75a3-4a71-9a0f-116be79134ce",
   "metadata": {},
   "outputs": [
    {
     "name": "stdout",
     "output_type": "stream",
     "text": [
      "2\n",
      "4\n",
      "6\n",
      "8\n",
      "10\n"
     ]
    }
   ],
   "source": [
    "my_list = [2, 4, 6, 8, 10, 12, 14, 16, 18, 20]\n",
    "my_iterator = iter(my_list)\n",
    "\n",
    "for _ in range(5):\n",
    "    element = next(my_iterator)\n",
    "    print(element)\n"
   ]
  },
  {
   "cell_type": "code",
   "execution_count": null,
   "id": "0d63b17a-fa3d-4b98-bbfe-70d866b9eb6c",
   "metadata": {},
   "outputs": [],
   "source": []
  },
  {
   "cell_type": "markdown",
   "id": "3c02ef27-c536-43d5-8c83-890c4c7f408d",
   "metadata": {},
   "source": [
    "**Q4**. What is a generator function in python? Why yield keyword is used? Give an example of a generator\n",
    "function."
   ]
  },
  {
   "cell_type": "markdown",
   "id": "5ea1d6e0-8cea-4677-9023-c6df44966a96",
   "metadata": {},
   "source": [
    "A generator function is a special type of function in Python that generates a sequence of values on-the-fly instead of returning them all at once. It uses the yield keyword to pause the function's execution and yield a value to the caller. The yield keyword allows the function to remember its state so that it can resume from where it left off when called again. This helps in generating large sequences efficiently without storing them in memory."
   ]
  },
  {
   "cell_type": "code",
   "execution_count": 10,
   "id": "5f6534aa-1d88-4ea3-a7b6-689ca2ce73eb",
   "metadata": {},
   "outputs": [
    {
     "name": "stdout",
     "output_type": "stream",
     "text": [
      "5\n",
      "4\n",
      "3\n",
      "2\n",
      "1\n"
     ]
    }
   ],
   "source": [
    "def countdown(n):\n",
    "    while n > 0:\n",
    "        yield n\n",
    "        n -= 1\n",
    "\n",
    "# Usage:\n",
    "for num in countdown(5):\n",
    "    print(num)\n"
   ]
  },
  {
   "cell_type": "code",
   "execution_count": null,
   "id": "213ec470-c268-407f-b13d-06231de6320a",
   "metadata": {},
   "outputs": [],
   "source": []
  },
  {
   "cell_type": "markdown",
   "id": "57ef0434-d877-487e-8eb1-f70d4547cf22",
   "metadata": {},
   "source": [
    "**Q5**. Create a generator function for prime numbers less than 1000. Use the next() method to print the\n",
    "first 20 prime numbers."
   ]
  },
  {
   "cell_type": "code",
   "execution_count": 11,
   "id": "a6609bbd-1bad-43d8-a92d-1fd7b6acbf88",
   "metadata": {},
   "outputs": [
    {
     "name": "stdout",
     "output_type": "stream",
     "text": [
      "2\n",
      "3\n",
      "5\n",
      "7\n",
      "11\n",
      "13\n",
      "17\n",
      "19\n",
      "23\n",
      "29\n",
      "31\n",
      "37\n",
      "41\n",
      "43\n",
      "47\n",
      "53\n",
      "59\n",
      "61\n",
      "67\n",
      "71\n"
     ]
    }
   ],
   "source": [
    "def generate_primes():\n",
    "    num = 2\n",
    "    while True:\n",
    "        if all(num % i != 0 for i in range(2, int(num ** 0.5) + 1)):\n",
    "            yield num\n",
    "        num += 1\n",
    "\n",
    "# Usage:\n",
    "primes = generate_primes()\n",
    "for _ in range(20):\n",
    "    print(next(primes))\n"
   ]
  },
  {
   "cell_type": "code",
   "execution_count": null,
   "id": "a5e436f8-7839-4101-8d6e-cd9c0234d99f",
   "metadata": {},
   "outputs": [],
   "source": []
  },
  {
   "cell_type": "markdown",
   "id": "57836702-831f-4948-9f55-be705dbb38a9",
   "metadata": {},
   "source": [
    "**Q6**. Write a python program to print the first 10 Fibonacci numbers using a while loop."
   ]
  },
  {
   "cell_type": "code",
   "execution_count": 12,
   "id": "fc7714d9-759b-4d18-acbf-a85682d6efea",
   "metadata": {},
   "outputs": [
    {
     "name": "stdout",
     "output_type": "stream",
     "text": [
      "0\n",
      "1\n",
      "1\n",
      "2\n",
      "3\n",
      "5\n",
      "8\n",
      "13\n",
      "21\n",
      "34\n"
     ]
    }
   ],
   "source": [
    "a, b = 0, 1\n",
    "count = 0\n",
    "while count < 10:\n",
    "    print(a)\n",
    "    a, b = b, a + b\n",
    "    count += 1\n"
   ]
  },
  {
   "cell_type": "code",
   "execution_count": null,
   "id": "17870480-5d32-40b6-9ad0-b0a39a2fec72",
   "metadata": {},
   "outputs": [],
   "source": []
  },
  {
   "cell_type": "markdown",
   "id": "bed672aa-8086-4f9e-ad71-e9bd4db777a4",
   "metadata": {},
   "source": [
    "**Q7**. Write a List Comprehension to iterate through the given string: ‘pwskills’.\n",
    "Expected output: ['p', 'w', 's', 'k', 'i', 'l', 'l', 's']"
   ]
  },
  {
   "cell_type": "code",
   "execution_count": 13,
   "id": "90a7f976-b094-4c4a-9c15-4132e509a36f",
   "metadata": {},
   "outputs": [
    {
     "name": "stdout",
     "output_type": "stream",
     "text": [
      "['p', 'w', 's', 'k', 'i', 'l', 'l', 's']\n"
     ]
    }
   ],
   "source": [
    "string = 'pwskills'\n",
    "result = [char for char in string]\n",
    "print(result)\n"
   ]
  },
  {
   "cell_type": "code",
   "execution_count": null,
   "id": "92e7d1f9-4931-4cda-a1d0-19e6873de7bc",
   "metadata": {},
   "outputs": [],
   "source": []
  },
  {
   "cell_type": "markdown",
   "id": "d8bbd921-6347-4c08-93a3-7ca1e2ec752d",
   "metadata": {},
   "source": [
    "**Q8**. Write a python program to check whether a given number is Palindrome or not using a while loop."
   ]
  },
  {
   "cell_type": "code",
   "execution_count": 16,
   "id": "1b3d21bc-1bae-4f8f-ab54-a66f61f15e20",
   "metadata": {},
   "outputs": [
    {
     "name": "stdin",
     "output_type": "stream",
     "text": [
      "Enter a number:  124321\n"
     ]
    },
    {
     "name": "stdout",
     "output_type": "stream",
     "text": [
      "The number is not a palindrome.\n"
     ]
    }
   ],
   "source": [
    "number = int(input(\"Enter a number: \"))\n",
    "temp = number\n",
    "reverse = 0\n",
    "while temp != 0:\n",
    "    reverse = reverse * 10 + temp % 10\n",
    "    temp //= 10\n",
    "if number == reverse:\n",
    "    print(\"The number is a palindrome.\")\n",
    "else:\n",
    "    print(\"The number is not a palindrome.\")\n"
   ]
  },
  {
   "cell_type": "code",
   "execution_count": null,
   "id": "6f962ed1-fbb5-428d-8f2b-7b88a3f81c7f",
   "metadata": {},
   "outputs": [],
   "source": []
  },
  {
   "cell_type": "markdown",
   "id": "f8b286e2-fabf-47c5-8048-294c04813f1a",
   "metadata": {},
   "source": [
    "**Q9**. Write a code to print odd numbers from 1 to 100 using list comprehension.Note: Use a list comprehension to create a list from 1 to 100 and use another List comprehension to filter\n",
    "out odd numbers."
   ]
  },
  {
   "cell_type": "code",
   "execution_count": 15,
   "id": "d1d8fe92-92e3-4aef-9d35-89311728bf3a",
   "metadata": {},
   "outputs": [
    {
     "name": "stdout",
     "output_type": "stream",
     "text": [
      "[1, 3, 5, 7, 9, 11, 13, 15, 17, 19, 21, 23, 25, 27, 29, 31, 33, 35, 37, 39, 41, 43, 45, 47, 49, 51, 53, 55, 57, 59, 61, 63, 65, 67, 69, 71, 73, 75, 77, 79, 81, 83, 85, 87, 89, 91, 93, 95, 97, 99]\n"
     ]
    }
   ],
   "source": [
    "odd_numbers = [num for num in range(1, 101) if num % 2 != 0]\n",
    "print(odd_numbers)\n"
   ]
  },
  {
   "cell_type": "code",
   "execution_count": null,
   "id": "7c05bcb5-4a07-444f-9386-7f5eea26a02a",
   "metadata": {},
   "outputs": [],
   "source": []
  }
 ],
 "metadata": {
  "kernelspec": {
   "display_name": "Python 3 (ipykernel)",
   "language": "python",
   "name": "python3"
  },
  "language_info": {
   "codemirror_mode": {
    "name": "ipython",
    "version": 3
   },
   "file_extension": ".py",
   "mimetype": "text/x-python",
   "name": "python",
   "nbconvert_exporter": "python",
   "pygments_lexer": "ipython3",
   "version": "3.10.8"
  }
 },
 "nbformat": 4,
 "nbformat_minor": 5
}
