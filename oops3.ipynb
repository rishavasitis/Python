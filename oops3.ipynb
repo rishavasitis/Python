{
 "cells": [
  {
   "cell_type": "code",
   "execution_count": null,
   "id": "34f80a43-38ce-463d-9ad8-a60d67384b50",
   "metadata": {},
   "outputs": [],
   "source": [
    "Q1. What is Abstraction in OOps? Explain with an example."
   ]
  },
  {
   "cell_type": "markdown",
   "id": "3aa8e0a5-d3ad-4ca7-8a09-b6092daa69d4",
   "metadata": {},
   "source": [
    "**ANS** Abstraction in object-oriented programming (OOP) is the process of simplifying complex systems by breaking them down into manageable and understandable components. It involves capturing the essential features of an object or system while hiding unnecessary implementation details. Abstraction allows us to focus on the relevant aspects and ignore the irrelevant ones."
   ]
  },
  {
   "cell_type": "code",
   "execution_count": 1,
   "id": "61981379-741e-4ebb-8af9-2ec9987ee9ab",
   "metadata": {},
   "outputs": [
    {
     "name": "stdout",
     "output_type": "stream",
     "text": [
      "24\n",
      "20\n"
     ]
    }
   ],
   "source": [
    "from abc import ABC, abstractmethod\n",
    "\n",
    "class Shape(ABC):\n",
    "    @abstractmethod\n",
    "    def area(self):\n",
    "        pass\n",
    "\n",
    "    @abstractmethod\n",
    "    def perimeter(self):\n",
    "        pass\n",
    "\n",
    "class Rectangle(Shape):\n",
    "    def __init__(self, length, width):\n",
    "        self.length = length\n",
    "        self.width = width\n",
    "\n",
    "    def area(self):\n",
    "        return self.length * self.width\n",
    "\n",
    "    def perimeter(self):\n",
    "        return 2 * (self.length + self.width)\n",
    "\n",
    "rectangle = Rectangle(4, 6)\n",
    "print(rectangle.area())      # Output: 24\n",
    "print(rectangle.perimeter()) # Output: 20\n"
   ]
  },
  {
   "cell_type": "code",
   "execution_count": null,
   "id": "57dd6c89-9d63-4a6d-8f52-1d58876ecedb",
   "metadata": {},
   "outputs": [],
   "source": []
  },
  {
   "cell_type": "code",
   "execution_count": null,
   "id": "0177f974-5a12-407f-9696-f0e939c35510",
   "metadata": {},
   "outputs": [],
   "source": [
    "Q2. Differentiate between Abstraction and Encapsulation. Explain with an example."
   ]
  },
  {
   "cell_type": "markdown",
   "id": "a1692b3f-95cd-4713-8344-1ed3be0dd6e6",
   "metadata": {},
   "source": [
    "**ANS**\n",
    "Abstraction and encapsulation are two fundamental concepts in object-oriented programming (OOP) but serve different purposes:\n",
    "\n",
    "Abstraction focuses on hiding unnecessary implementation details and providing a simplified view of an object or system. It allows us to work with the essential features and behaviors while ignoring the internal complexities. Abstraction is achieved through abstract classes, interfaces, or abstract methods.\n",
    "\n",
    "Example:\n",
    "In a banking system, a customer interacts with their account using high-level operations like deposit, withdraw, or transfer. The customer does not need to know the intricate details of how these operations are implemented in the backend. The abstraction layer shields the customer from low-level implementation details, providing a simplified interface to work with the account.\n",
    "\n",
    "Encapsulation, on the other hand, involves bundling data and related behaviors (methods) within a class and controlling access to them. It aims to keep the internal state of an object hidden and protected from direct external access. Encapsulation provides data integrity and ensures that an object's attributes can only be accessed or modified through predefined methods.\n",
    "\n",
    "Example:\n",
    "Consider a Person class with attributes like name and age. The class can provide methods like get_name() and set_age() to control access to these attributes. The internal state (attributes) is encapsulated within the class, and the methods act as gatekeepers, allowing controlled access to the data. This prevents direct modification of the attributes without going through the defined methods."
   ]
  },
  {
   "cell_type": "code",
   "execution_count": null,
   "id": "9d1afee8-4ed4-4ec8-9233-cd27f41381f0",
   "metadata": {},
   "outputs": [],
   "source": []
  },
  {
   "cell_type": "code",
   "execution_count": null,
   "id": "c5c9fb76-56ad-4f00-8bad-33bb70892050",
   "metadata": {},
   "outputs": [],
   "source": [
    "Q3. What is abc module in python? Why is it used?"
   ]
  },
  {
   "cell_type": "markdown",
   "id": "71579084-d635-4fb5-b692-4d80b7f4adaa",
   "metadata": {},
   "source": [
    "**ANS** \n",
    "The abc (Abstract Base Classes) module in Python provides infrastructure for defining abstract base classes. An abstract base class is a class that cannot be instantiated directly but serves as a blueprint for other classes.\n",
    "\n",
    "The abc module is used to create abstract base classes by using the ABC class as a metaclass or by using the abstractmethod decorator. It allows us to define abstract methods that must be implemented by the derived classes, enforcing a certain contract or behavior.\n",
    "\n",
    "Abstract base classes help in achieving abstraction and defining common interfaces or functionality that multiple related classes can adhere to. They provide a way to define a common API while allowing flexibility in the implementation details."
   ]
  },
  {
   "cell_type": "code",
   "execution_count": null,
   "id": "ed4b5ace-508e-407d-9a4d-c8be2d198479",
   "metadata": {},
   "outputs": [],
   "source": []
  },
  {
   "cell_type": "code",
   "execution_count": null,
   "id": "81e5abc5-1a00-4acf-a38c-b63ade181385",
   "metadata": {},
   "outputs": [],
   "source": [
    "Q4. How can we achieve data abstraction?"
   ]
  },
  {
   "cell_type": "markdown",
   "id": "2df4d133-6f53-4e06-a719-f687e92feee7",
   "metadata": {},
   "source": [
    "**ANS**\n",
    "Data abstraction can be achieved in Python through the use of abstract classes and interfaces. Abstract classes define abstract methods that must be implemented by the derived classes, while interfaces define a set of methods that must be implemented without providing any default implementation.\n",
    "\n",
    "By creating abstract classes or interfaces, we can define a common interface for a group of related classes. This allows us to work with the common interface without worrying about the specific implementation details of each class.\n",
    "\n",
    "The abc module in Python provides the necessary tools to create abstract classes and interfaces using the ABC class as a metaclass or the abstractmethod decorator. By defining abstract methods in abstract classes or interfaces, we enforce a contract that the derived classes must fulfill."
   ]
  },
  {
   "cell_type": "code",
   "execution_count": null,
   "id": "296b7e95-8be7-4a50-ae10-a6d4c0f251be",
   "metadata": {},
   "outputs": [],
   "source": []
  },
  {
   "cell_type": "code",
   "execution_count": null,
   "id": "77a8cb80-5a29-4a6d-919f-aed5372895ec",
   "metadata": {},
   "outputs": [],
   "source": [
    "Q5. Can we create an instance of an abstract class? Explain your answer."
   ]
  },
  {
   "cell_type": "markdown",
   "id": "00298ff7-71ad-4f65-9bb0-90dfcaef04ac",
   "metadata": {},
   "source": [
    "**ANS** \n",
    "No, we cannot create an instance of an abstract class in Python. An abstract class is a class that is meant to be subclassed but not instantiated on its own. It serves as a blueprint or template for other classes to inherit from and provides a common interface or behavior that the derived classes should implement.\n",
    "\n",
    "Abstract classes in Python are created using the abc module and are defined by inheriting from the ABC class or by using the abstractmethod decorator. They include one or more abstract methods, which are methods without an implementation.\n",
    "\n",
    "When we try to instantiate an abstract class directly, we will encounter a TypeError. This is because the abstract class itself is incomplete and lacks the implementation of the abstract methods. Instead, we need to create instances of the derived classes that inherit from the abstract class and provide implementations for the abstract methods.\n",
    "\n",
    "By creating instances of the derived classes, we can utilize the common interface and behavior defined in the abstract class while benefiting from the specific implementations provided by the derived classes. This ensures adherence to the abstraction and allows for polymorphism and code reuse."
   ]
  },
  {
   "cell_type": "code",
   "execution_count": null,
   "id": "8c35f5c5-b0cf-4f55-9177-0ee76f6789b0",
   "metadata": {},
   "outputs": [],
   "source": []
  }
 ],
 "metadata": {
  "kernelspec": {
   "display_name": "Python 3 (ipykernel)",
   "language": "python",
   "name": "python3"
  },
  "language_info": {
   "codemirror_mode": {
    "name": "ipython",
    "version": 3
   },
   "file_extension": ".py",
   "mimetype": "text/x-python",
   "name": "python",
   "nbconvert_exporter": "python",
   "pygments_lexer": "ipython3",
   "version": "3.10.8"
  }
 },
 "nbformat": 4,
 "nbformat_minor": 5
}
