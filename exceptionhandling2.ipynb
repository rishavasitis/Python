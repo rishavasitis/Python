{
 "cells": [
  {
   "cell_type": "markdown",
   "id": "36107a1c-df79-4286-90c5-295e88e4c2db",
   "metadata": {},
   "source": [
    "Q1. Explain why we have to use the Exception class while creating a Custom Exception.\n",
    "Note: Here Exception class refers to the base class for all the exceptions."
   ]
  },
  {
   "cell_type": "markdown",
   "id": "871e2586-4d4f-469f-a8f0-822a72f10e8d",
   "metadata": {},
   "source": [
    "We use the Exception class as the base class when creating a custom exception because it provides a standard set of attributes and methods that are essential for handling exceptions. The Exception class is the parent class for all built-in exceptions in Python, and it provides a consistent interface for working with exceptions.\n",
    "\n",
    "By inheriting from the Exception class, our custom exception inherits its behavior and can leverage the existing exception handling mechanisms in Python. This includes features such as capturing and displaying error messages, stack traces, and handling exceptions using try-except blocks.\n",
    "\n",
    "Additionally, inheriting from the Exception class helps maintain the compatibility of our custom exception with the exception hierarchy in Python, allowing it to be treated as a general exception type."
   ]
  },
  {
   "cell_type": "code",
   "execution_count": null,
   "id": "bf587f39-0259-465a-9b68-b7ae97c01fb5",
   "metadata": {},
   "outputs": [],
   "source": []
  },
  {
   "cell_type": "markdown",
   "id": "4d587ac8-9de9-4580-9e44-983297b9280e",
   "metadata": {},
   "source": [
    "Q2. Write a python program to print Python Exception Hierarchy."
   ]
  },
  {
   "cell_type": "code",
   "execution_count": 1,
   "id": "440dc2c7-f1ab-4ab8-ac6f-0fd2e65bc272",
   "metadata": {},
   "outputs": [
    {
     "name": "stdout",
     "output_type": "stream",
     "text": [
      "ArithmeticError\n",
      "AssertionError\n",
      "AttributeError\n",
      "BaseException\n",
      "BlockingIOError\n",
      "BrokenPipeError\n",
      "BufferError\n",
      "BytesWarning\n",
      "ChildProcessError\n",
      "ConnectionAbortedError\n",
      "ConnectionError\n",
      "ConnectionRefusedError\n",
      "ConnectionResetError\n",
      "DeprecationWarning\n",
      "EOFError\n",
      "EncodingWarning\n",
      "EnvironmentError\n",
      "Exception\n",
      "FileExistsError\n",
      "FileNotFoundError\n",
      "FloatingPointError\n",
      "FutureWarning\n",
      "GeneratorExit\n",
      "IOError\n",
      "ImportError\n",
      "ImportWarning\n",
      "IndentationError\n",
      "IndexError\n",
      "InterruptedError\n",
      "IsADirectoryError\n",
      "KeyError\n",
      "KeyboardInterrupt\n",
      "LookupError\n",
      "MemoryError\n",
      "ModuleNotFoundError\n",
      "NameError\n",
      "NotADirectoryError\n",
      "NotImplementedError\n",
      "OSError\n",
      "OverflowError\n",
      "PendingDeprecationWarning\n",
      "PermissionError\n",
      "ProcessLookupError\n",
      "RecursionError\n",
      "ReferenceError\n",
      "ResourceWarning\n",
      "RuntimeError\n",
      "RuntimeWarning\n",
      "StopAsyncIteration\n",
      "StopIteration\n",
      "SyntaxError\n",
      "SyntaxWarning\n",
      "SystemError\n",
      "SystemExit\n",
      "TabError\n",
      "TimeoutError\n",
      "TypeError\n",
      "UnboundLocalError\n",
      "UnicodeDecodeError\n",
      "UnicodeEncodeError\n",
      "UnicodeError\n",
      "UnicodeTranslateError\n",
      "UnicodeWarning\n",
      "UserWarning\n",
      "ValueError\n",
      "Warning\n",
      "ZeroDivisionError\n"
     ]
    }
   ],
   "source": [
    "import builtins\n",
    "\n",
    "for exception in dir(builtins):\n",
    "    if isinstance(getattr(builtins, exception), type) and issubclass(getattr(builtins, exception), BaseException):\n",
    "        print(exception)\n"
   ]
  },
  {
   "cell_type": "markdown",
   "id": "3a514bb8-cc44-437a-a676-e0858ae7d3ae",
   "metadata": {},
   "source": [
    "---This program prints the Python exception hierarchy by iterating over the built-in exceptions in the builtins module. It filters out the classes that are subclasses of the BaseException class, which is the base class for all exceptions in Python. Each exception class name is printed on a separate line."
   ]
  },
  {
   "cell_type": "code",
   "execution_count": null,
   "id": "6451dd93-a6cd-41d9-ab9b-e98eca28b01c",
   "metadata": {},
   "outputs": [],
   "source": []
  },
  {
   "cell_type": "markdown",
   "id": "c8f7eb3f-ac11-4d59-9458-f001807c7fea",
   "metadata": {},
   "source": [
    "Q3. What errors are defined in the ArithmeticError class? Explain any two with an example."
   ]
  },
  {
   "cell_type": "markdown",
   "id": "a5c7169f-f6fd-40a3-b0b8-0bc06f33c11e",
   "metadata": {},
   "source": [
    "The ArithmeticError class is a base class for exceptions that occur during arithmetic calculations. Some errors defined in the ArithmeticError class include:\n",
    "\n",
    "ZeroDivisionError: This exception is raised when a division or modulo operation is performed with a denominator of zero.\n",
    "Example:"
   ]
  },
  {
   "cell_type": "code",
   "execution_count": 2,
   "id": "6d294d82-e70f-4005-b769-7b041ed19944",
   "metadata": {},
   "outputs": [
    {
     "name": "stdout",
     "output_type": "stream",
     "text": [
      "Error: Division by zero.\n"
     ]
    }
   ],
   "source": [
    "try:\n",
    "    result = 10 / 0\n",
    "except ZeroDivisionError:\n",
    "    print(\"Error: Division by zero.\")\n"
   ]
  },
  {
   "cell_type": "markdown",
   "id": "f650f4f8-ee1e-4d09-a443-77d6d72402d9",
   "metadata": {},
   "source": [
    "OverflowError: This exception is raised when the result of an arithmetic calculation exceeds the maximum representable value.\n",
    "Example:"
   ]
  },
  {
   "cell_type": "code",
   "execution_count": 4,
   "id": "ad0a7ab9-0ef3-415e-8331-e78645061d34",
   "metadata": {},
   "outputs": [],
   "source": [
    "try:\n",
    "    result = 999999999999999999999999999999999999999999999999999999999999999999999999999999999 + 1\n",
    "except OverflowError:\n",
    "    print(\"Error: Overflow occurred.\")\n"
   ]
  },
  {
   "cell_type": "code",
   "execution_count": null,
   "id": "dabbd1e4-19e0-4cb7-b168-e4f0aefc2534",
   "metadata": {},
   "outputs": [],
   "source": []
  },
  {
   "cell_type": "markdown",
   "id": "8f86a8c2-aa4b-4a72-b7a5-67b241fa153e",
   "metadata": {},
   "source": [
    "Q4. Why LookupError class is used? Explain with an example KeyError and IndexError."
   ]
  },
  {
   "cell_type": "markdown",
   "id": "e3f1a492-434e-4e36-b30d-2d66c76dbdcd",
   "metadata": {},
   "source": [
    "The LookupError class is a base class for exceptions that occur when a specified key or index is not found. It provides a common interface for handling lookup-related errors.\n",
    "\n",
    "KeyError: This exception is raised when a dictionary key is not found.\n",
    "Example:"
   ]
  },
  {
   "cell_type": "code",
   "execution_count": 5,
   "id": "d9becef4-f315-4e48-b5a4-d0e85c835b54",
   "metadata": {},
   "outputs": [
    {
     "name": "stdout",
     "output_type": "stream",
     "text": [
      "Error: Key not found in dictionary.\n"
     ]
    }
   ],
   "source": [
    "try:\n",
    "    my_dict = {\"name\": \"John\", \"age\": 25}\n",
    "    value = my_dict[\"city\"]\n",
    "except KeyError:\n",
    "    print(\"Error: Key not found in dictionary.\")\n"
   ]
  },
  {
   "cell_type": "markdown",
   "id": "e333afce-ebd2-49b8-8900-d4a3dc60ec70",
   "metadata": {},
   "source": [
    "IndexError: This exception is raised when trying to access a list, tuple, or string with an invalid index.\n",
    "Example:\n",
    "\n"
   ]
  },
  {
   "cell_type": "code",
   "execution_count": 6,
   "id": "6432ad32-55d7-4c87-9e3e-6b806e1176d9",
   "metadata": {},
   "outputs": [
    {
     "name": "stdout",
     "output_type": "stream",
     "text": [
      "Error: Invalid index.\n"
     ]
    }
   ],
   "source": [
    "try:\n",
    "    my_list = [1, 2, 3]\n",
    "    value = my_list[3]\n",
    "except IndexError:\n",
    "    print(\"Error: Invalid index.\")\n"
   ]
  },
  {
   "cell_type": "code",
   "execution_count": null,
   "id": "0cc96cc9-0754-4cf8-8b9f-739055323e69",
   "metadata": {},
   "outputs": [],
   "source": []
  },
  {
   "cell_type": "markdown",
   "id": "bcfdf9a9-70a1-4b54-a191-95ed375cd65a",
   "metadata": {},
   "source": [
    "Q5. Explain ImportError. What is ModuleNotFoundError?"
   ]
  },
  {
   "cell_type": "markdown",
   "id": "2bf6d5e3-9b34-4f05-adf9-685b72a10bc4",
   "metadata": {},
   "source": [
    "ImportError: This exception is raised when there is an error importing a module or a specific object from a module. It typically occurs when the requested module or object is not found or there are issues with the import statement.\n",
    "\n",
    "ModuleNotFoundError: Starting from Python 3.6, ModuleNotFoundError is a subclass of ImportError that specifically indicates that the requested module cannot be found. It helps distinguish between a missing module and other types of import errors."
   ]
  },
  {
   "cell_type": "code",
   "execution_count": null,
   "id": "ace56351-8c25-4ac5-9970-e17951a68e71",
   "metadata": {},
   "outputs": [],
   "source": []
  },
  {
   "cell_type": "markdown",
   "id": "e7749871-f234-4244-b7f6-6b34315ae85e",
   "metadata": {},
   "source": [
    "Q6. List down some best practices for exception handling in python."
   ]
  },
  {
   "cell_type": "markdown",
   "id": "26b775d8-0b85-447f-920d-b9e34dd35f38",
   "metadata": {},
   "source": [
    "Here are some best practices for exception handling in Python:\n",
    "\n",
    "Be specific: Catch exceptions at the appropriate level and handle them accordingly. Avoid using a broad except statement that catches all exceptions unless necessary.\n",
    "\n",
    "Use informative error messages: Provide meaningful and descriptive error messages to help identify the cause of the exception and aid in debugging.\n",
    "\n",
    "Avoid silent errors: Never ignore exceptions without handling them appropriately. Unhandled exceptions can lead to unexpected program behavior or crashes.\n",
    "\n",
    "Keep exception handling code separate: Isolate exception handling code from the main logic to improve code readability and maintainability.\n",
    "\n",
    "Use context managers (with statement): Utilize context managers to automatically handle resources and ensure proper cleanup, even in the presence of exceptions.\n",
    "\n",
    "Log exceptions: Consider logging exceptions instead of printing them. This helps in debugging and provides a historical record of exceptions.\n",
    "\n",
    "Handle exceptions at the right level: Handle exceptions where it makes the most sense, such as close to the source of the error or at a higher level for centralized error handling.\n",
    "\n",
    "Follow Python naming conventions: Name exceptions clearly and consistently, adhering to the recommended naming conventions. This helps make the code more readable and understandable.\n",
    "\n",
    "Remember, exception handling is crucial for writing robust and reliable code. It allows for graceful error recovery, enhances user experience, and helps in identifying and fixing issues efficiently.\n",
    "\n",
    "\n",
    "\n",
    "\n"
   ]
  },
  {
   "cell_type": "code",
   "execution_count": null,
   "id": "954defcd-d93d-4225-a3f4-77b852ceb6e2",
   "metadata": {},
   "outputs": [],
   "source": []
  }
 ],
 "metadata": {
  "kernelspec": {
   "display_name": "Python 3 (ipykernel)",
   "language": "python",
   "name": "python3"
  },
  "language_info": {
   "codemirror_mode": {
    "name": "ipython",
    "version": 3
   },
   "file_extension": ".py",
   "mimetype": "text/x-python",
   "name": "python",
   "nbconvert_exporter": "python",
   "pygments_lexer": "ipython3",
   "version": "3.10.8"
  }
 },
 "nbformat": 4,
 "nbformat_minor": 5
}
