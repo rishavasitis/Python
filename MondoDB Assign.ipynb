{
 "cells": [
  {
   "cell_type": "markdown",
   "id": "543ea5c7-5ff2-40aa-ad81-a9e345fd125c",
   "metadata": {},
   "source": [
    "Q1. What is MongoDB? Explain non-relational databases in short. In which scenarios it is preferred to use\n",
    "MongoDB over SQL databases?\n",
    "\n",
    "Q2. State and Explain the features of MongoDB.\n",
    "\n",
    "Q3. Write a code to connect MongoDB to Python. Also, create a database and a collection in MongoDB.\n",
    "\n",
    "Q4. Using the database and the collection created in question number 3, write a code to insert one record,\n",
    "and insert many records. Use the find() and find_one() methods to print the inserted record.\n",
    "\n",
    "Q5. Explain how you can use the find() method to query the MongoDB database. Write a simple code to\n",
    "demonstrate this.\n",
    "\n",
    "Q6. Explain the sort() method. Give an example to demonstrate sorting in MongoDB.\n",
    "\n",
    "Q7. Explain why delete_one(), delete_many(), and drop() is used."
   ]
  },
  {
   "cell_type": "code",
   "execution_count": null,
   "id": "4c23558f-7607-4773-8f9f-87f1c5fe4e75",
   "metadata": {},
   "outputs": [],
   "source": []
  },
  {
   "cell_type": "markdown",
   "id": "455ca8ff-e0b4-4eee-9c28-1377923077e5",
   "metadata": {},
   "source": [
    "#ANSWER"
   ]
  },
  {
   "cell_type": "markdown",
   "id": "b1150ca9-f0be-452b-972a-5c0596f967a9",
   "metadata": {
    "jp-MarkdownHeadingCollapsed": true,
    "tags": []
   },
   "source": [
    "# 1. MongoDB is a type of database that stores data in a way different from traditional SQL databases. \n",
    "In non-relational databases like MongoDB, data is organized in a more flexible, document-based structure,\n",
    "which is especially good for handling unstructured or semi-structured data. \n",
    "MongoDB is preferred over SQL databases when you need to store and retrieve data that doesn't fit neatly into tables,\n",
    "like JSON documents or other complex data formats.\n",
    "It's also useful when you need to scale horizontally and handle a large amount of data.\n",
    "\n",
    "# 2. Features of MongoDB:\n",
    "\n",
    "Schemaless: MongoDB doesn't require a fixed schema, making it flexible for handling different types of data.\n",
    "High Performance: It can handle large volumes of data and high read/write operations.\n",
    "Replication and High Availability: It supports data replication and automatic failover to ensure data availability.\n",
    "Scalability: It's easy to scale horizontally by adding more servers to handle increased data loads.\n",
    "Indexing: MongoDB provides efficient indexing for faster data retrieval.\n",
    "Aggregation: It offers powerful aggregation and query capabilities for data analysis.\n",
    "Geospatial Queries: Supports geospatial data and queries for location-based applications.\n",
    "Security: Provides authentication and authorization features to secure data.\n",
    "\n",
    "\n",
    "# Q3. To connect MongoDB to Python and create a database and collection, you can use the PyMongo library. Here's a code snippet:\n",
    "\n",
    "\n",
    "import pymongo\n",
    "\n",
    "..Connect to MongoDB (default connection to localhost)\n",
    "client = pymongo.MongoClient(\"mongodb://localhost:27017/\")\n",
    "\n",
    "..Create a database\n",
    "mydb = client[\"mydatabase\"]\n",
    "\n",
    "..Create a collection\n",
    "mycol = mydb[\"mycollection\"]\n",
    "\n",
    "# Q4. To insert records, use the following code:\n",
    "\n",
    "python\n",
    "Copy code\n",
    "Insert one record\n",
    "\n",
    "\n",
    "record1 = {\"name\": \"John\", \"age\": 30}\n",
    "mycol.insert_one(record1)\n",
    "\n",
    "..Insert many records\n",
    "\n",
    "\n",
    "records = [\n",
    "    {\"name\": \"Alice\", \"age\": 25},\n",
    "    {\"name\": \"Bob\", \"age\": 35},\n",
    "]\n",
    "mycol.insert_many(records)\n",
    "\n",
    "..Find and print inserted records\n",
    "\n",
    "for record in mycol.find():\n",
    "    print(record)\n",
    "\n",
    "..Find one record\n",
    "\n",
    "one_record = mycol.find_one({\"name\": \"John\"})\n",
    "print(one_record)\n",
    "\n",
    "# Q5. The find() method is used to query a MongoDB database. You can specify criteria to filter the data you want to retrieve. Here's a simple code example:\n",
    "\n",
    "\n",
    "..Query for all records with age greater than 30\n",
    "\n",
    "results = mycol.find({\"age\": {\"$gt\": 30}})\n",
    "\n",
    "..Print the matching records\n",
    "\n",
    "for record in results:\n",
    "    print(record)\n",
    "# Q6. The sort() method in MongoDB is used to sort the results of a query in ascending or descending order based on a field. Here's an example:\n",
    "\n",
    "\n",
    "..Sort records by age in ascending order\n",
    "\n",
    "results = mycol.find().sort(\"age\")\n",
    "\n",
    "..Print the sorted records\n",
    "\n",
    "for record in results:\n",
    "    print(record)\n",
    "    \n",
    "# Q7.\n",
    "\n",
    "delete_one(): Used to delete a single document that matches a specified criteria. It's handy when you want to remove a specific record.\n",
    "delete_many(): Deletes multiple documents that meet the specified criteria.\n",
    "Useful for removing multiple records at once.\n",
    "drop(): This method is used to delete an entire collection,\n",
    "effectively removing all documents and the collection itself.\n",
    "It's a more drastic action compared to delete_one() and delete_many()."
   ]
  },
  {
   "cell_type": "markdown",
   "id": "3f83a768-6eab-43e7-a202-4b3e17946cc6",
   "metadata": {},
   "source": []
  },
  {
   "cell_type": "code",
   "execution_count": 6,
   "id": "a9052134-4d7b-45f8-a40c-f9e36757238c",
   "metadata": {},
   "outputs": [
    {
     "ename": "ModuleNotFoundError",
     "evalue": "No module named 'pymongo'",
     "output_type": "error",
     "traceback": [
      "\u001b[0;31m---------------------------------------------------------------------------\u001b[0m",
      "\u001b[0;31mModuleNotFoundError\u001b[0m                       Traceback (most recent call last)",
      "Cell \u001b[0;32mIn[6], line 4\u001b[0m\n\u001b[1;32m      1\u001b[0m \u001b[38;5;66;03m#Q3. To connect MongoDB to Python and create a database and collection, you can use the PyMongo library.\u001b[39;00m\n\u001b[1;32m      2\u001b[0m \u001b[38;5;66;03m#Here's a code snippet\u001b[39;00m\n\u001b[0;32m----> 4\u001b[0m \u001b[38;5;28;01mimport\u001b[39;00m \u001b[38;5;21;01mpymongo\u001b[39;00m\n\u001b[1;32m      6\u001b[0m \u001b[38;5;66;03m# Connect to MongoDB (default connection to localhost)\u001b[39;00m\n\u001b[1;32m      7\u001b[0m client \u001b[38;5;241m=\u001b[39m pymongo\u001b[38;5;241m.\u001b[39mMongoClient(\u001b[38;5;124m\"\u001b[39m\u001b[38;5;124mmongodb://localhost:27017/\u001b[39m\u001b[38;5;124m\"\u001b[39m)\n",
      "\u001b[0;31mModuleNotFoundError\u001b[0m: No module named 'pymongo'"
     ]
    }
   ],
   "source": [
    "#Q3. To connect MongoDB to Python and create a database and collection, you can use the PyMongo library.\n",
    "#Here's a code snippet\n",
    "\n",
    "import pymongo\n",
    "\n",
    "# Connect to MongoDB (default connection to localhost)\n",
    "client = pymongo.MongoClient(\"mongodb://localhost:27017/\")\n",
    "\n",
    "# Create a database\n",
    "mydb = client[\"mydatabase\"]\n",
    "\n",
    "# Create a collection\n",
    "mycol = mydb[\"mycollection\"]\n"
   ]
  },
  {
   "cell_type": "code",
   "execution_count": null,
   "id": "29c82686-8348-4196-9a00-b5a4b78a7818",
   "metadata": {},
   "outputs": [],
   "source": []
  }
 ],
 "metadata": {
  "kernelspec": {
   "display_name": "Python 3 (ipykernel)",
   "language": "python",
   "name": "python3"
  },
  "language_info": {
   "codemirror_mode": {
    "name": "ipython",
    "version": 3
   },
   "file_extension": ".py",
   "mimetype": "text/x-python",
   "name": "python",
   "nbconvert_exporter": "python",
   "pygments_lexer": "ipython3",
   "version": "3.10.8"
  }
 },
 "nbformat": 4,
 "nbformat_minor": 5
}
