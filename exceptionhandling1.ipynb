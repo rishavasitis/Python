{
 "cells": [
  {
   "cell_type": "markdown",
   "id": "a87558a0-51cb-4bea-a8d8-fbe09da5b43d",
   "metadata": {},
   "source": [
    "Ql. What is an Exception in python? Write the difference between Exceptions and Syntax errors."
   ]
  },
  {
   "cell_type": "markdown",
   "id": "2a07037f-f5f8-4f71-a27f-1be65bd52a7d",
   "metadata": {},
   "source": [
    "**ANS**\n",
    "An exception in Python is an event that occurs during the execution of a program that disrupts the normal flow of instructions. It indicates that something unexpected or erroneous has happened. When an exception occurs, the program stops executing the current code and jumps to a special block called an exception handler to deal with the exception.\n",
    "\n",
    "The difference between exceptions and syntax errors is as follows:\n",
    "\n",
    "Exceptions: Exceptions occur during the runtime of a program and are caused by various factors, such as invalid input, division by zero, or accessing an undefined variable. Exceptions are handled using exception handling mechanisms like try-except blocks to gracefully handle the errors and prevent the program from crashing. Examples of exceptions include ZeroDivisionError, TypeError, and ValueError.\n",
    "\n",
    "Syntax Errors: Syntax errors, also known as parsing errors, occur when the Python interpreter encounters code that violates the syntax rules of the Python language. These errors prevent the code from being parsed or compiled. Syntax errors are detected during the compilation phase of the program and need to be fixed before the program can run. Examples of syntax errors include misspelled keywords, missing colons, or incorrect indentation.\n"
   ]
  },
  {
   "cell_type": "code",
   "execution_count": null,
   "id": "deb72c1b-fb03-4f8d-9717-56e3ba97c883",
   "metadata": {},
   "outputs": [],
   "source": []
  },
  {
   "cell_type": "markdown",
   "id": "3ae532a2-44f4-4f75-99c9-98e4ead8029e",
   "metadata": {},
   "source": [
    "Q2. What happens when an exception is not handled? Explain with an example."
   ]
  },
  {
   "cell_type": "markdown",
   "id": "bb3f1123-b725-430e-a92d-022cabcf269a",
   "metadata": {},
   "source": [
    "*ANS**\n",
    "When an exception is not handled in a program, it leads to an abrupt termination of the program and an error message is displayed indicating the type of exception and the traceback of the error."
   ]
  },
  {
   "cell_type": "code",
   "execution_count": 1,
   "id": "d185cefa-9de4-4735-8bb0-838b9ff31f92",
   "metadata": {},
   "outputs": [
    {
     "ename": "ZeroDivisionError",
     "evalue": "division by zero",
     "output_type": "error",
     "traceback": [
      "\u001b[0;31m---------------------------------------------------------------------------\u001b[0m",
      "\u001b[0;31mZeroDivisionError\u001b[0m                         Traceback (most recent call last)",
      "Cell \u001b[0;32mIn[1], line 4\u001b[0m\n\u001b[1;32m      1\u001b[0m \u001b[38;5;28;01mdef\u001b[39;00m \u001b[38;5;21mdivide\u001b[39m(a, b):\n\u001b[1;32m      2\u001b[0m     result \u001b[38;5;241m=\u001b[39m a \u001b[38;5;241m/\u001b[39m b\n\u001b[0;32m----> 4\u001b[0m \u001b[43mdivide\u001b[49m\u001b[43m(\u001b[49m\u001b[38;5;241;43m10\u001b[39;49m\u001b[43m,\u001b[49m\u001b[43m \u001b[49m\u001b[38;5;241;43m0\u001b[39;49m\u001b[43m)\u001b[49m\n",
      "Cell \u001b[0;32mIn[1], line 2\u001b[0m, in \u001b[0;36mdivide\u001b[0;34m(a, b)\u001b[0m\n\u001b[1;32m      1\u001b[0m \u001b[38;5;28;01mdef\u001b[39;00m \u001b[38;5;21mdivide\u001b[39m(a, b):\n\u001b[0;32m----> 2\u001b[0m     result \u001b[38;5;241m=\u001b[39m \u001b[43ma\u001b[49m\u001b[43m \u001b[49m\u001b[38;5;241;43m/\u001b[39;49m\u001b[43m \u001b[49m\u001b[43mb\u001b[49m\n",
      "\u001b[0;31mZeroDivisionError\u001b[0m: division by zero"
     ]
    }
   ],
   "source": [
    "def divide(a, b):\n",
    "    result = a / b\n",
    "\n",
    "divide(10, 0)\n"
   ]
  },
  {
   "cell_type": "markdown",
   "id": "72b904b4-d72f-4895-9dff-9169774ba7c4",
   "metadata": {},
   "source": [
    "In this example, the function divide() attempts to divide 10 by 0, which raises a ZeroDivisionError. Since there is no exception handling code to handle this error, the program terminates and displays an error message like ZeroDivisionError: division by zero along with a traceback showing where the exception occurred.\n",
    "\n",
    "Not handling exceptions can make the program crash and provide an unpleasant experience to users. By handling exceptions, we can gracefully recover from errors and ensure that the program continues to run smoothly."
   ]
  },
  {
   "cell_type": "code",
   "execution_count": null,
   "id": "9fa9aec7-97fb-4dfd-883a-fdbb9d12b278",
   "metadata": {},
   "outputs": [],
   "source": []
  },
  {
   "cell_type": "markdown",
   "id": "6bf685c9-d543-4473-9c8b-b41310f2b95f",
   "metadata": {},
   "source": [
    "Q3. Which Python statements are used to catch and handle exceptions? Explain with an example."
   ]
  },
  {
   "cell_type": "markdown",
   "id": "346ebdfe-d00e-4ce6-8069-ba7936a3806b",
   "metadata": {},
   "source": [
    "Python provides two statements for catching and handling exceptions:\n",
    "\n",
    "try-except: The try-except statement is used to catch and handle exceptions. The code that may raise an exception is placed within the try block, and if an exception occurs, it is caught by the corresponding except block, which contains the code to handle the exception.\n",
    "Example:"
   ]
  },
  {
   "cell_type": "code",
   "execution_count": 2,
   "id": "f86ff9f4-bfed-4e8e-b7ea-a46ad9e2cccc",
   "metadata": {},
   "outputs": [
    {
     "name": "stdin",
     "output_type": "stream",
     "text": [
      "Enter a number:  4\n"
     ]
    },
    {
     "name": "stdout",
     "output_type": "stream",
     "text": [
      "Result: 2.5\n"
     ]
    }
   ],
   "source": [
    "try:\n",
    "    num = int(input(\"Enter a number: \"))\n",
    "    result = 10 / num\n",
    "    print(\"Result:\", result)\n",
    "except ZeroDivisionError:\n",
    "    print(\"Error: Division by zero is not allowed.\")\n",
    "except ValueError:\n",
    "    print(\"Error: Invalid input. Please enter a valid number.\")\n"
   ]
  },
  {
   "cell_type": "markdown",
   "id": "94b14061-495d-438b-bc5b-2adde4f2afe6",
   "metadata": {},
   "source": [
    "In this example, the code within the try block attempts to convert user input to an integer and then perform a division operation. If a ZeroDivisionError or a ValueError occurs, the corresponding except block is executed, displaying an appropriate error message"
   ]
  },
  {
   "cell_type": "code",
   "execution_count": null,
   "id": "228dda5e-2a6e-488b-8671-485113c9297d",
   "metadata": {},
   "outputs": [],
   "source": []
  },
  {
   "cell_type": "markdown",
   "id": "5641abd1-eaba-4884-bb13-9c97409f4818",
   "metadata": {},
   "source": [
    "Q4. Explain with an example:\n",
    "\n",
    "a. try and else\n",
    "\n",
    "b. finally\n",
    "\n",
    "c. raise\n"
   ]
  },
  {
   "cell_type": "markdown",
   "id": "0f679d70-d0d7-46e2-9ef5-953c43aadb3b",
   "metadata": {},
   "source": [
    "a. try and else: The else block in a try-except statement is optional and is executed only if no exceptions occur in the try block.\n",
    "\n",
    "Example:"
   ]
  },
  {
   "cell_type": "code",
   "execution_count": 3,
   "id": "c14726b6-ba81-4168-befe-bb3a493a4f12",
   "metadata": {},
   "outputs": [
    {
     "name": "stdin",
     "output_type": "stream",
     "text": [
      "Enter a number:  4\n"
     ]
    },
    {
     "name": "stdout",
     "output_type": "stream",
     "text": [
      "Result: 2.5\n"
     ]
    }
   ],
   "source": [
    "try:\n",
    "    num = int(input(\"Enter a number: \"))\n",
    "    result = 10 / num\n",
    "except ZeroDivisionError:\n",
    "    print(\"Error: Division by zero is not allowed.\")\n",
    "else:\n",
    "    print(\"Result:\", result)\n"
   ]
  },
  {
   "cell_type": "markdown",
   "id": "22c46d0f-689c-4ec6-a2cf-62b4b4b64a32",
   "metadata": {},
   "source": [
    "b. finally: The finally block in a try-except statement is optional and is always executed, regardless of whether an exception occurred or not. It is useful for performing cleanup actions or releasing resources.\n",
    "\n",
    "Example:"
   ]
  },
  {
   "cell_type": "code",
   "execution_count": 4,
   "id": "2e75c9c4-6224-4ca6-beaf-3a1b16b100ce",
   "metadata": {},
   "outputs": [
    {
     "name": "stdout",
     "output_type": "stream",
     "text": [
      "Error: File not found.\n"
     ]
    },
    {
     "ename": "NameError",
     "evalue": "name 'file' is not defined",
     "output_type": "error",
     "traceback": [
      "\u001b[0;31m---------------------------------------------------------------------------\u001b[0m",
      "\u001b[0;31mNameError\u001b[0m                                 Traceback (most recent call last)",
      "Cell \u001b[0;32mIn[4], line 8\u001b[0m\n\u001b[1;32m      6\u001b[0m     \u001b[38;5;28mprint\u001b[39m(\u001b[38;5;124m\"\u001b[39m\u001b[38;5;124mError: File not found.\u001b[39m\u001b[38;5;124m\"\u001b[39m)\n\u001b[1;32m      7\u001b[0m \u001b[38;5;28;01mfinally\u001b[39;00m:\n\u001b[0;32m----> 8\u001b[0m     \u001b[43mfile\u001b[49m\u001b[38;5;241m.\u001b[39mclose()\n\u001b[1;32m      9\u001b[0m     \u001b[38;5;28mprint\u001b[39m(\u001b[38;5;124m\"\u001b[39m\u001b[38;5;124mFile closed.\u001b[39m\u001b[38;5;124m\"\u001b[39m)\n",
      "\u001b[0;31mNameError\u001b[0m: name 'file' is not defined"
     ]
    }
   ],
   "source": [
    "try:\n",
    "    file = open(\"data.txt\", \"r\")\n",
    "    data = file.read()\n",
    "    print(\"Data:\", data)\n",
    "except FileNotFoundError:\n",
    "    print(\"Error: File not found.\")\n",
    "finally:\n",
    "    file.close()\n",
    "    print(\"File closed.\")\n"
   ]
  },
  {
   "cell_type": "markdown",
   "id": "ad4560fa-4975-40aa-871f-7aa826a1a5d8",
   "metadata": {},
   "source": [
    "the try block attempts to open a file and read its contents. If a FileNotFoundError occurs, the corresponding except block is executed. Regardless of the exception, the finally block is executed, closing the file and printing a message indicating that the file is closed."
   ]
  },
  {
   "cell_type": "markdown",
   "id": "3303597a-68d6-4dd8-b7b1-435363da9f72",
   "metadata": {},
   "source": [
    "c. raise: The raise statement is used to explicitly raise an exception. It allows us to create and raise custom exceptions or propagate existing exceptions.\n",
    "\n",
    "Example:"
   ]
  },
  {
   "cell_type": "code",
   "execution_count": 5,
   "id": "cace2833-3ac1-47b9-8738-a6284ec61709",
   "metadata": {},
   "outputs": [
    {
     "name": "stdin",
     "output_type": "stream",
     "text": [
      "Enter your age:  25\n"
     ]
    },
    {
     "name": "stdout",
     "output_type": "stream",
     "text": [
      "Valid age: 25\n"
     ]
    }
   ],
   "source": [
    "def validate_age(age):\n",
    "    if age < 0:\n",
    "        raise ValueError(\"Age cannot be negative.\")\n",
    "\n",
    "try:\n",
    "    age = int(input(\"Enter your age: \"))\n",
    "    validate_age(age)\n",
    "    print(\"Valid age:\", age)\n",
    "except ValueError as e:\n",
    "    print(\"Error:\", str(e))\n"
   ]
  },
  {
   "cell_type": "code",
   "execution_count": null,
   "id": "748cad12-ddd0-4a87-ac12-e24883ec450f",
   "metadata": {},
   "outputs": [],
   "source": []
  },
  {
   "cell_type": "markdown",
   "id": "68d797bd-8f46-41d3-b2e2-c75ffc4ed386",
   "metadata": {},
   "source": [
    "Q5. What are Custom Exceptions in python? Why do we need Custom Exceptions? Explain with an example."
   ]
  },
  {
   "cell_type": "markdown",
   "id": "a8e6ecf8-ccc5-40ca-a9a2-a3f82f8bab1b",
   "metadata": {},
   "source": [
    "Custom exceptions in Python are user-defined exceptions that allow developers to create their own types of exceptions based on specific needs. Custom exceptions can inherit from built-in exception classes or other custom exceptions.\n",
    "\n",
    "We need custom exceptions to provide more specific and meaningful error handling in our programs. By creating custom exceptions, we can categorize and differentiate various types of errors, making it easier to handle exceptions in a more targeted manner.\n",
    "\n",
    "Example:"
   ]
  },
  {
   "cell_type": "code",
   "execution_count": 6,
   "id": "b4e54cdf-0f49-4eaf-ad81-d1a888a52aab",
   "metadata": {},
   "outputs": [
    {
     "name": "stdout",
     "output_type": "stream",
     "text": [
      "Error: Insufficient balance.\n"
     ]
    }
   ],
   "source": [
    "class WithdrawalError(Exception):\n",
    "    pass\n",
    "\n",
    "class BankAccount:\n",
    "    def __init__(self, balance):\n",
    "        self.balance = balance\n",
    "\n",
    "    def withdraw(self, amount):\n",
    "        if amount > self.balance:\n",
    "            raise WithdrawalError(\"Insufficient balance.\")\n",
    "        self.balance -= amount\n",
    "\n",
    "try:\n",
    "    account = BankAccount(500)\n",
    "    account.withdraw(700)\n",
    "except WithdrawalError as e:\n",
    "    print(\"Error:\", str(e))\n"
   ]
  },
  {
   "cell_type": "markdown",
   "id": "4d50ea0a-c8ae-4b91-8cbe-fb073a6e3fc3",
   "metadata": {},
   "source": [
    "Custom exceptions help in making code more readable, maintainable, and robust by providing specific error handling and improving the clarity of the code's intent."
   ]
  },
  {
   "cell_type": "code",
   "execution_count": null,
   "id": "cd89fe40-ada3-4a35-9e9d-589bbf16c4f7",
   "metadata": {},
   "outputs": [],
   "source": []
  },
  {
   "cell_type": "markdown",
   "id": "aaeeec06-76fd-4df3-8608-3374f19e9b0c",
   "metadata": {},
   "source": [
    "Q6. Create a custom exception class. Use this class to handle an exception."
   ]
  },
  {
   "cell_type": "code",
   "execution_count": 7,
   "id": "8b1b9e18-0110-4a88-96ef-2fc7a562eb94",
   "metadata": {},
   "outputs": [
    {
     "name": "stdout",
     "output_type": "stream",
     "text": [
      "Error: Cannot divide by zero.\n"
     ]
    }
   ],
   "source": [
    "class CustomException(Exception):\n",
    "    pass\n",
    "\n",
    "def divide(a, b):\n",
    "    if b == 0:\n",
    "        raise CustomException(\"Cannot divide by zero.\")\n",
    "    return a / b\n",
    "\n",
    "try:\n",
    "    result = divide(10, 0)\n",
    "except CustomException as e:\n",
    "    print(\"Error:\", str(e))\n"
   ]
  },
  {
   "cell_type": "markdown",
   "id": "6371fc6a-8bf3-4b85-b431-b2d8973f9902",
   "metadata": {},
   "source": [
    "we define a custom exception class CustomException that inherits from the base Exception class. The divide() function performs a division operation but raises the CustomException if the denominator (b) is zero.\n",
    "\n",
    "Within the try block, we call the divide() function with arguments 10 and 0, which raises the CustomException. The except block catches the CustomException and displays an error message.\n",
    "\n",
    "By creating and using a custom exception class, we can provide specific error handling and differentiate it from other types of exceptions. Custom exceptions allow us to handle exceptional situations in a more meaningful and controlled manner."
   ]
  },
  {
   "cell_type": "code",
   "execution_count": null,
   "id": "2b2f7875-08f8-425b-b1fc-718ccdd8717c",
   "metadata": {},
   "outputs": [],
   "source": []
  }
 ],
 "metadata": {
  "kernelspec": {
   "display_name": "Python 3 (ipykernel)",
   "language": "python",
   "name": "python3"
  },
  "language_info": {
   "codemirror_mode": {
    "name": "ipython",
    "version": 3
   },
   "file_extension": ".py",
   "mimetype": "text/x-python",
   "name": "python",
   "nbconvert_exporter": "python",
   "pygments_lexer": "ipython3",
   "version": "3.10.8"
  }
 },
 "nbformat": 4,
 "nbformat_minor": 5
}
