{
 "cells": [
  {
   "cell_type": "code",
   "execution_count": null,
   "id": "61f148d7-7936-428b-b157-d19244ff9f65",
   "metadata": {},
   "outputs": [],
   "source": [
    "how do you comment code in python? what are the different types of comments?\n"
   ]
  },
  {
   "cell_type": "markdown",
   "id": "6fe4228f-e942-4f2c-b1dd-87a60ef877b1",
   "metadata": {},
   "source": [
    "In Python, you can comment code using the # symbol for single-line comments or using triple quotes (\"\"\") for multi-line comments. Single-line comments start with # and continue until the end of the line. Multi-line comments are enclosed between triple quotes and can span multiple lines. Multi-line comments are often used as docstrings to provide documentation for functions, classes, or modules.\n",
    "\n"
   ]
  },
  {
   "cell_type": "code",
   "execution_count": null,
   "id": "da7bc530-e5a2-411b-81f5-d01664bc74f5",
   "metadata": {},
   "outputs": [],
   "source": []
  },
  {
   "cell_type": "markdown",
   "id": "8bfea790-54e3-492f-ad46-301360e84695",
   "metadata": {},
   "source": [
    "what are variables in python?how do you declare and assign values to variables?"
   ]
  },
  {
   "cell_type": "markdown",
   "id": "95a17725-8dd6-4870-8fbd-2c9b56ad8497",
   "metadata": {},
   "source": [
    "Variables in Python are used to store and manipulate data. They act as placeholders to store values of different types. To declare a variable, you simply choose a name and assign a value to it using the assignment operator (=). Python is dynamically typed, so you don't need to explicitly declare the variable's data type. The type is determined based on the assigned value."
   ]
  },
  {
   "cell_type": "code",
   "execution_count": null,
   "id": "8281a1e1-d721-4911-8a30-cd83f272ef07",
   "metadata": {},
   "outputs": [],
   "source": []
  },
  {
   "cell_type": "markdown",
   "id": "ef7bf8a8-7a86-4c22-b1c3-c5d8453448db",
   "metadata": {},
   "source": [
    "how do you convert one data types to another in python?"
   ]
  },
  {
   "cell_type": "markdown",
   "id": "440d27b2-71ca-466d-af72-ceed4dbbfef2",
   "metadata": {},
   "source": [
    "In Python, you can convert one data type to another using type conversion functions. For example, int() converts a value to an integer, float() converts it to a float, str() converts it to a string, and so on. You can also use methods like int(), float(), or str() on specific data types to convert them."
   ]
  },
  {
   "cell_type": "code",
   "execution_count": null,
   "id": "82d11b40-8599-4bdc-b9c8-c767cb766962",
   "metadata": {},
   "outputs": [],
   "source": []
  },
  {
   "cell_type": "markdown",
   "id": "9c4eb781-b077-4919-943e-6496e9a69e1c",
   "metadata": {},
   "source": [
    "how do you write and execute a python script from the command line?"
   ]
  },
  {
   "cell_type": "markdown",
   "id": "b68cf696-767b-4213-9898-15b6bcb4ae8a",
   "metadata": {},
   "source": [
    "To write a Python script, create a new file with a .py extension, open it in a text editor, and write your Python code. To execute the script from the command line, navigate to the directory containing the script file and use the command python script_name.py, replacing script_name.py with the name of your Python script file."
   ]
  },
  {
   "cell_type": "code",
   "execution_count": null,
   "id": "67cfb7bd-1f3f-4042-8f84-3c12f4d34c6f",
   "metadata": {},
   "outputs": [],
   "source": []
  },
  {
   "cell_type": "markdown",
   "id": "b9614eec-35b9-439e-a2e3-0732bfb3ee82",
   "metadata": {},
   "source": [
    "given a list my_list=[1,2,3,4,5],write the code to slice the list and obtain the sub-list[2,3]."
   ]
  },
  {
   "cell_type": "markdown",
   "id": "2775f5a5-be18-4d60-9217-e458f5e83d5d",
   "metadata": {},
   "source": [
    "You can use list slicing in Python to obtain a sub-list. To get the sub-list [2, 3] from my_list, you can use the slice notation my_list[1:3]. This will include elements starting from index 1 (2) up to index 3 (exclusive), giving you the desired sub-list."
   ]
  },
  {
   "cell_type": "code",
   "execution_count": null,
   "id": "09c46cf2-c433-482d-93e6-8df658b9f596",
   "metadata": {},
   "outputs": [],
   "source": []
  },
  {
   "cell_type": "markdown",
   "id": "a91bc4e9-a95a-4cb4-a7b9-ce03cb2a4b00",
   "metadata": {},
   "source": [
    "what is a complex number in mathematics,and how is it represented in python?"
   ]
  },
  {
   "cell_type": "markdown",
   "id": "690ac611-63fc-4dd8-ac6f-753cf078f9b4",
   "metadata": {},
   "source": [
    "In mathematics, a complex number is a number that comprises a real part and an imaginary part. In Python, complex numbers are represented using the j or J suffix to indicate the imaginary part. For example, 3 + 2j represents a complex number with a real part of 3 and an imaginary part of 2."
   ]
  },
  {
   "cell_type": "code",
   "execution_count": null,
   "id": "1c7b85bc-7d47-47bd-b75c-4492ff5cae38",
   "metadata": {},
   "outputs": [],
   "source": []
  },
  {
   "cell_type": "markdown",
   "id": "87e72e9a-f7ef-48e3-9ed1-03ab2a89b4ad",
   "metadata": {},
   "source": [
    "what is the correct way to declare a variable named age and assign the value 25 to it?"
   ]
  },
  {
   "cell_type": "markdown",
   "id": "845acf3c-705a-49b1-a779-3b0155775dec",
   "metadata": {},
   "source": [
    "To declare a variable named age and assign the value 25 to it, you can simply write age = 25."
   ]
  },
  {
   "cell_type": "code",
   "execution_count": null,
   "id": "274c5631-37a8-4564-a76e-688cbd48b1cc",
   "metadata": {},
   "outputs": [],
   "source": []
  },
  {
   "cell_type": "markdown",
   "id": "b96cfad7-75e1-4a69-a244-5c91e2df6b07",
   "metadata": {},
   "source": [
    "declare a variable named price and assign the value 9.99 to it .what data types does this variable belongs to?"
   ]
  },
  {
   "cell_type": "markdown",
   "id": "d4ac48a3-d426-471f-b6f9-8bb57c643714",
   "metadata": {},
   "source": [
    "To declare a variable named price and assign the value 9.99 to it, you can write price = 9.99. This variable belongs to the float data type, which represents decimal numbers."
   ]
  },
  {
   "cell_type": "code",
   "execution_count": null,
   "id": "ac4e00dc-1520-4a9b-9e46-1cb6ac3af60d",
   "metadata": {},
   "outputs": [],
   "source": []
  },
  {
   "cell_type": "markdown",
   "id": "ad683fd6-8d24-48bf-9864-1cbf1feccd2c",
   "metadata": {},
   "source": [
    "create a variable named name and assign your full name to it as a string.how would you print the value of this variable?"
   ]
  },
  {
   "cell_type": "markdown",
   "id": "6c24ab9e-ffab-4b48-a02f-78479f81adcc",
   "metadata": {},
   "source": [
    "To create a variable named name and assign your full name as a string, you can write name = \"Your Full Name\". To print the value of this variable, you can use the print() function with the variable as an argument: print(name)."
   ]
  },
  {
   "cell_type": "code",
   "execution_count": null,
   "id": "0cb4246f-f5e8-4676-885d-4006c486e616",
   "metadata": {},
   "outputs": [],
   "source": []
  },
  {
   "cell_type": "markdown",
   "id": "46a25c9d-08ce-496a-8ffc-d37eb09c597e",
   "metadata": {},
   "source": [
    "given the string \"Hello World!\",extract the substring \"World\"."
   ]
  },
  {
   "cell_type": "markdown",
   "id": "7a9c12dc-8df5-4810-b4af-b2d5d7c671aa",
   "metadata": {},
   "source": [
    "To extract the substring \"World\" from the string \"Hello, World!\", you can use string slicing. You can write substring = \"Hello, World!\"[7:]. This will start the slice from index 7 until the end of the string, giving you the desired substring \"World\"."
   ]
  },
  {
   "cell_type": "code",
   "execution_count": null,
   "id": "5ac6fc34-bdb8-4610-8d57-1b08b9859b8e",
   "metadata": {},
   "outputs": [],
   "source": []
  },
  {
   "cell_type": "markdown",
   "id": "32589baa-695e-4040-9147-c6f809e596ff",
   "metadata": {},
   "source": [
    "create a variable named \"is_student\" and assign it a boolean value indicating whether you are currently a student or not."
   ]
  },
  {
   "cell_type": "markdown",
   "id": "87968c2e-1d85-4e0f-947e-22f040ab35fc",
   "metadata": {},
   "source": [
    "To create a variable named \"is_student\" and assign it a boolean value indicating whether you are currently a student or not, you can write:\n",
    "    is_student = True\n",
    "If you are currently a student, you can assign True to the variable. If you are not a student, you can assign False:\n",
    "    is_student = False\n"
   ]
  },
  {
   "cell_type": "code",
   "execution_count": null,
   "id": "b745a2d2-9b42-4575-a63d-d11ce845dd0e",
   "metadata": {},
   "outputs": [],
   "source": []
  }
 ],
 "metadata": {
  "kernelspec": {
   "display_name": "Python 3 (ipykernel)",
   "language": "python",
   "name": "python3"
  },
  "language_info": {
   "codemirror_mode": {
    "name": "ipython",
    "version": 3
   },
   "file_extension": ".py",
   "mimetype": "text/x-python",
   "name": "python",
   "nbconvert_exporter": "python",
   "pygments_lexer": "ipython3",
   "version": "3.10.8"
  }
 },
 "nbformat": 4,
 "nbformat_minor": 5
}
