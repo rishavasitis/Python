{
 "cells": [
  {
   "cell_type": "markdown",
   "id": "363e78f6-b845-4755-8813-f064bbc2ab92",
   "metadata": {},
   "source": [
    "Q1. What is Web Scraping? Why is it Used? Give three areas where Web Scraping is used to get data.\n",
    "\n",
    "Q2. What are the different methods used for Web Scraping?\n",
    "\n",
    "Q3. What is Beautiful Soup? Why is it used?\n",
    "\n",
    "Q4. Why is flask used in this Web Scraping project?\n",
    "\n",
    "Q5. Write the names of AWS services used in this project. Also, explain the use of each service."
   ]
  },
  {
   "cell_type": "code",
   "execution_count": null,
   "id": "db0509d7-4506-424a-ae61-999afe0a7006",
   "metadata": {},
   "outputs": [],
   "source": []
  },
  {
   "cell_type": "markdown",
   "id": "119aeb34-9a34-44a8-9045-5b78a54058a8",
   "metadata": {},
   "source": [
    "Q1. **What is Web Scraping and Why It's Used:**\n",
    "   - Web scraping is like collecting information from websites. It's used to extract data from web pages automatically. People use web scraping in various areas:\n",
    "     1. **Research**: Gathering data for analysis or research.\n",
    "     2. **E-commerce**: Monitoring prices and product details.\n",
    "     3. **News and Social Media**: Tracking news articles or social media posts.\n",
    "\n",
    "Q2. **Different Methods for Web Scraping:**\n",
    "   - Web scraping can be done in various ways, including:\n",
    "     1. **Manual Scraping**: Copy-pasting data by hand, which is slow and not practical for large-scale tasks.\n",
    "     2. **Using Libraries**: Writing code to automate data extraction. Libraries like Beautiful Soup, Scrapy, and Requests are often used.\n",
    "     3. **Using Web Scraping Tools**: Using software tools that provide a user-friendly way to scrape data from websites.\n",
    "\n",
    "Q3. **What is Beautiful Soup and Why It's Used:**\n",
    "   - Beautiful Soup is like a web page decoder. It's used to parse HTML and XML documents, making it easier to extract specific information from web pages. You use Beautiful Soup to navigate the structure of a webpage, find elements like headings or links, and extract the data you need.\n",
    "\n",
    "Q4. **Why Flask is Used in Web Scraping Project:**\n",
    "   - Flask is like a helper for creating web applications. In a web scraping project, Flask can be used to build a simple web interface to display the scraped data. This makes it easier for users to access and interact with the collected information. Flask helps present the data in a user-friendly way.\n",
    "\n",
    "Q5. **AWS Services Used in the Project:**\n",
    "   - In a web scraping project hosted on Amazon Web Services (AWS), you might use services like:\n",
    "     1. **Amazon EC2 (Elastic Compute Cloud)**: It's like a virtual computer where you can run your web scraping scripts.\n",
    "     2. **Amazon S3 (Simple Storage Service)**: Think of it as a storage space where you can store the scraped data or any other files.\n",
    "     3. **Amazon RDS (Relational Database Service)**: If you need to store structured data, you can use RDS, which is like a managed database service. It's suitable for more organized data storage."
   ]
  },
  {
   "cell_type": "code",
   "execution_count": null,
   "id": "fb48debb-0d3a-4fc1-8657-89284397090a",
   "metadata": {},
   "outputs": [],
   "source": []
  }
 ],
 "metadata": {
  "kernelspec": {
   "display_name": "Python 3 (ipykernel)",
   "language": "python",
   "name": "python3"
  },
  "language_info": {
   "codemirror_mode": {
    "name": "ipython",
    "version": 3
   },
   "file_extension": ".py",
   "mimetype": "text/x-python",
   "name": "python",
   "nbconvert_exporter": "python",
   "pygments_lexer": "ipython3",
   "version": "3.10.8"
  }
 },
 "nbformat": 4,
 "nbformat_minor": 5
}
