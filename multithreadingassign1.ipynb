{
 "cells": [
  {
   "cell_type": "markdown",
   "id": "18fc3dea-f1f1-4384-9f7f-b73204593755",
   "metadata": {},
   "source": [
    "Ql. Whatis multithreading in python? Why is it used? Name the module used to handle threads in python."
   ]
  },
  {
   "cell_type": "markdown",
   "id": "2a9a0e2a-d523-4894-b0b2-4ec8f3bc26d5",
   "metadata": {},
   "source": [
    "**ANS**\n",
    "\n",
    "Multithreading in Python refers to the ability of a program to execute multiple threads concurrently within a single process. A thread is a separate sequence of instructions that can run independently, allowing different parts of a program to be executed concurrently. Multithreading is used to achieve parallelism, improve performance, and enhance responsiveness in programs that involve tasks that can be executed simultaneously.\n",
    "\n",
    "The threading module is used to handle threads in Python. It provides a high-level interface for creating, managing, and synchronizing threads. The threading module allows programmers to write multi-threaded programs without directly dealing with low-level thread management."
   ]
  },
  {
   "cell_type": "code",
   "execution_count": null,
   "id": "524f8b85-28d1-4c21-a878-3fe1302bf441",
   "metadata": {},
   "outputs": [],
   "source": []
  },
  {
   "cell_type": "markdown",
   "id": "bd781670-f1c4-44e7-9e14-d9dcf6fc9d0d",
   "metadata": {},
   "source": [
    "Q2. Why threading module used? Write the use of the following functions:\n",
    "    \n",
    "1. activeCount()\n",
    "2. currentThread()\n",
    "3. enumerate()\n"
   ]
  },
  {
   "cell_type": "markdown",
   "id": "34e89a9f-9bf8-4557-abc6-d07760594607",
   "metadata": {},
   "source": [
    "**ANS**\n",
    "\n",
    "activeCount(): This function returns the number of Thread objects currently alive and running.\n",
    "\n",
    "currentThread(): This function returns the current Thread object, corresponding to the caller's thread of execution.\n",
    "\n",
    "enumerate(): This function returns a list of all Thread objects currently alive and running. It is useful for obtaining a list of all active threads in the program."
   ]
  },
  {
   "cell_type": "code",
   "execution_count": null,
   "id": "28d01f80-b3c7-4c40-9139-47e4a1262a78",
   "metadata": {},
   "outputs": [],
   "source": []
  },
  {
   "cell_type": "markdown",
   "id": "99cdce9b-f076-419c-a2d7-8285498dc421",
   "metadata": {},
   "source": [
    "Q3. Explain the following functions:\n",
    "1. run()\n",
    "2. start()\n",
    "3. join()\n",
    "4. isAlive()"
   ]
  },
  {
   "cell_type": "markdown",
   "id": "ccb795ce-53aa-4ab3-ab5c-b3d9578cb397",
   "metadata": {},
   "source": [
    "**ANS**\n",
    "\n",
    "run(): This method defines the entry point for the thread's activity. It contains the code that will be executed when the thread is started. It should be overridden in a subclass to implement the desired behavior.\n",
    "\n",
    "start(): This method starts the execution of the thread. It launches a separate thread of control within the program, and the run() method of the thread is invoked.\n",
    "\n",
    "join(): This method blocks the calling thread until the thread on which it is called completes its execution. It ensures that the calling thread waits for the completion of the specified thread before proceeding further.\n",
    "\n",
    "isAlive(): This method returns a boolean value indicating whether the thread is currently alive and running."
   ]
  },
  {
   "cell_type": "code",
   "execution_count": null,
   "id": "dc6f8e9a-8fbc-46ff-9b92-c5d9e4d7d38d",
   "metadata": {},
   "outputs": [],
   "source": []
  },
  {
   "cell_type": "markdown",
   "id": "b3084ae0-d622-4930-9891-7194e5fa3f0e",
   "metadata": {},
   "source": [
    "Q4. Write a python program to create two threads. Thread one must print the list of squares and thread\n",
    "two must print the list of cubes."
   ]
  },
  {
   "cell_type": "code",
   "execution_count": 1,
   "id": "a9d539cd-b7f1-4487-a48c-4fd8a072390a",
   "metadata": {},
   "outputs": [
    {
     "name": "stdout",
     "output_type": "stream",
     "text": [
      "Square of 1: 1\n",
      "Square of 2: 4\n",
      "Square of 3: 9\n",
      "Square of 4: 16\n",
      "Square of 5: 25\n",
      "Square of 6: 36\n",
      "Square of 7: 49\n",
      "Square of 8: 64\n",
      "Square of 9: 81\n",
      "Square of 10: 100\n",
      "Cube of 1: 1\n",
      "Cube of 2: 8\n",
      "Cube of 3: 27\n",
      "Cube of 4: 64\n",
      "Cube of 5: 125\n",
      "Cube of 6: 216\n",
      "Cube of 7: 343\n",
      "Cube of 8: 512\n",
      "Cube of 9: 729\n",
      "Cube of 10: 1000\n"
     ]
    }
   ],
   "source": [
    "import threading\n",
    "\n",
    "def print_squares():\n",
    "    for i in range(1, 11):\n",
    "        print(f\"Square of {i}: {i*i}\")\n",
    "\n",
    "def print_cubes():\n",
    "    for i in range(1, 11):\n",
    "        print(f\"Cube of {i}: {i*i*i}\")\n",
    "\n",
    "# Create two threads\n",
    "thread1 = threading.Thread(target=print_squares)\n",
    "thread2 = threading.Thread(target=print_cubes)\n",
    "\n",
    "# Start the threads\n",
    "thread1.start()\n",
    "thread2.start()\n"
   ]
  },
  {
   "cell_type": "code",
   "execution_count": null,
   "id": "7d1192e2-69ae-459e-9f5e-6f833f685cc4",
   "metadata": {},
   "outputs": [],
   "source": []
  },
  {
   "cell_type": "markdown",
   "id": "5f3b745d-1d09-4104-9c23-20eb61f2d316",
   "metadata": {},
   "source": [
    "Q5. State advantages and disadvantages of multithreading."
   ]
  },
  {
   "cell_type": "markdown",
   "id": "e858d671-7cfa-48b1-812a-66102a1b876c",
   "metadata": {},
   "source": [
    "**ANS**\n",
    "\n",
    "Advantages of multithreading:\n",
    "\n",
    "Improved performance: Multithreading allows concurrent execution of tasks, which can lead to improved performance by utilizing the available CPU resources effectively.\n",
    "\n",
    "Responsiveness: Multithreading can enhance the responsiveness of an application by allowing it to handle multiple tasks simultaneously, making it more interactive and less prone to freezing or becoming unresponsive.\n",
    "\n",
    "Resource sharing: Threads can share the same memory space, allowing efficient communication and sharing of data between threads, which can simplify the design of certain applications.\n",
    "\n",
    "Disadvantages of multithreading:\n",
    "\n",
    "Complexity: Multithreading introduces complexities such as synchronization, race conditions, and deadlocks. Proper synchronization and coordination between threads are required to avoid issues like data corruption or inconsistent results.\n",
    "\n",
    "Increased resource usage: Multithreading consumes system resources such as memory and CPU time. The overhead of thread creation, management, and context switching can impact the overall performance of the program.\n",
    "\n",
    "Debugging complexity: Debugging multithreaded programs can be challenging due to the non-deterministic nature of thread execution and potential race conditions. Identifying and fixing issues in multithreaded code can be more complex than in single-threaded code."
   ]
  },
  {
   "cell_type": "code",
   "execution_count": null,
   "id": "d1a1828e-0a86-4a49-996c-4720673393b0",
   "metadata": {},
   "outputs": [],
   "source": []
  },
  {
   "cell_type": "markdown",
   "id": "5f997042-1bdb-429e-a97d-a35d340b4779",
   "metadata": {},
   "source": [
    "Q6. Explain deadlocks and race conditions."
   ]
  },
  {
   "cell_type": "markdown",
   "id": "ee6fb024-4159-4fa8-8502-6257838ce3f4",
   "metadata": {},
   "source": [
    "**ANS**\n",
    "\n",
    "Deadlocks: A deadlock occurs in a multithreaded program when two or more threads are waiting for each other to release resources, resulting in a situation where none of the threads can proceed. It leads to a deadlock state where the program halts and remains stuck indefinitely. Deadlocks can occur when threads acquire locks or resources in an incorrect order, causing a circular dependency.\n",
    "\n",
    "Race conditions: A race condition occurs when multiple threads access and modify shared data concurrently, and the final result depends on the order or timing of their execution. Race conditions can lead to unpredictable and incorrect behavior, where the outcome varies each time the program is run. Race conditions can be mitigated by proper synchronization mechanisms, such as locks or semaphores, to ensure exclusive access"
   ]
  },
  {
   "cell_type": "code",
   "execution_count": null,
   "id": "93cb39df-6789-4bf8-95dc-f62fd550b1a7",
   "metadata": {},
   "outputs": [],
   "source": []
  }
 ],
 "metadata": {
  "kernelspec": {
   "display_name": "Python 3 (ipykernel)",
   "language": "python",
   "name": "python3"
  },
  "language_info": {
   "codemirror_mode": {
    "name": "ipython",
    "version": 3
   },
   "file_extension": ".py",
   "mimetype": "text/x-python",
   "name": "python",
   "nbconvert_exporter": "python",
   "pygments_lexer": "ipython3",
   "version": "3.10.8"
  }
 },
 "nbformat": 4,
 "nbformat_minor": 5
}
